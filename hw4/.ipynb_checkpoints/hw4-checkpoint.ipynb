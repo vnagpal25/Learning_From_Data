{
 "cells": [
  {
   "cell_type": "markdown",
   "id": "c9e2432c",
   "metadata": {},
   "source": [
    "# Question 1, Answer D\n",
    "## VC Inequality:\n",
    "$$E_{out}(g) \\le E_{in}(g) + \\sqrt{\\frac{8}{N}\\ln{\\frac{4m_H(2N)}{\\delta}}} $$\n",
    "\n",
    "## Rearranging terms:\n",
    "$$\\Large \\frac{e^{\\frac{N\\epsilon^2}{8}}}{m_H(2N)} = \\frac{4}{\\delta}$$\n",
    "\n",
    "$$\\text{where }\\epsilon = E_{out}(g) - E_{in}(g)$$\n",
    "\n",
    "## Using VC dimension for Growth Function:\n",
    "$$m_H(2N) = (2N)^{d_{vc}} = 2^{d_{vc}}N^{d_{vc}}$$\n",
    "\n",
    "$$\\text{Thus, } N^{d_{vc}}e^{-\\frac{N\\epsilon^2}{8}} = \\frac{\\delta}{2^{d_{vc} + 2}}$$"
   ]
  },
  {
   "cell_type": "code",
   "execution_count": 52,
   "id": "1a79c0ce",
   "metadata": {},
   "outputs": [
    {
     "data": {
      "image/png": "[encoded data removed]",
      "text/plain": [
       "<Figure size 432x288 with 1 Axes>"
      ]
     },
     "metadata": {
      "needs_background": "light"
     },
     "output_type": "display_data"
    },
    {
     "name": "stdout",
     "output_type": "stream",
     "text": [
      "We can clearly see the closest numerical approximation of the solution is 460,000, therefore the answer choice D is correct\n",
      "Exact number of samples needed: 452956\n"
     ]
    }
   ],
   "source": [
    "from sympy import symbols\n",
    "from sympy.plotting import plot\n",
    "from sympy import exp\n",
    "from sympy import solve\n",
    "import math\n",
    "delta = 0.05 # 1- 0.95 confidence\n",
    "dvc = 10\n",
    "epsilon = 0.05\n",
    "\n",
    "N = symbols('N', real=True)\n",
    "LHS = (N**dvc) * (exp((-N/8) * (epsilon ** 2)))\n",
    "RHS = delta/(2 ** (dvc + 2))\n",
    "\n",
    "sol = solve(LHS-RHS, N) # solves LHS - RHS = 0 for N\n",
    "\n",
    "N_samples_needed = None\n",
    "\n",
    "# the function n^a * e^-n passes the threshold 3 times\n",
    "# so pick the largest one using 10*dvc rule of thumb\n",
    "for solution in sol:\n",
    "    if solution >= (10 *dvc):\n",
    "        N_samples_needed = solution\n",
    "        break\n",
    "\n",
    "\n",
    "p1 = plot(LHS,(N, 0.9*N_samples_needed, 1.1*N_samples_needed), show = False, ylim = [0, 2*RHS])\n",
    "p2 = plot(RHS,(N, 0.9*N_samples_needed, 1.1*N_samples_needed), show = False)\n",
    "p1.extend(p2)\n",
    "p1.show()\n",
    "print(\"We can clearly see the closest numerical approximation of the solution is 460,000, therefore the answer choice D is correct\")\n",
    "print(f'Exact number of samples needed: {math.floor(N_samples_needed)}')"
   ]
  },
  {
   "cell_type": "markdown",
   "id": "2e830dc3",
   "metadata": {},
   "source": [
    "# Question 2, Answer D\n",
    "## VC bound (Original, explicit):\n",
    "$$\\epsilon \\le \\sqrt{\\frac{8}{N}\\ln{\\frac{4m_H(2N)}{\\delta}}}$$\n",
    "\n",
    "## Rademacher Penalty Bound(explicit):\n",
    "$$\\epsilon \\le \\sqrt{\\frac{2\\ln{(2Nm_H(N))}}{N}} + \\sqrt{\\frac{\\ln{\\frac{1}{\\delta}}}{N}} + \\frac{1}{N}$$\n",
    "\n",
    "## Parrondo and Van den Broek(implicit):\n",
    "$$\\epsilon \\le \\sqrt{\\frac{1}{N} (2\\epsilon + \\ln{(\\frac{6m_H(2N)}{\\delta})})}$$\n",
    "\n",
    "## Parrondo and Van den Broek(explicit):\n",
    "### For quadratic formula, minus term yeilds negative bound, only consider plus term\n",
    "$$\\epsilon \\le \\frac{1}{N} (1 + \\sqrt{1 + N\\ln{(\\frac{6m_H(2N)}{\\delta})}})$$\n",
    "\n",
    "## Devroye Bound(implicit):\n",
    "$$\\epsilon \\le \\sqrt{\\frac{1}{2N} (4\\epsilon(1 + \\epsilon) + \\ln(\\frac{4m_H(N^2)}{\\delta}))}$$\n",
    "\n",
    "## Devroye Bound(explicit):\n",
    "### For quadratic formula, minus term yeilds negative bound, only consider plus term\n",
    "$$\\epsilon \\le \\frac{1}{N-2} +\\frac{1}{2N-4} \\sqrt{4 + (2N-4)\\ln{\\frac{4m_H(N^2)}{\\delta}}}$$"
   ]
  },
  {
   "cell_type": "code",
   "execution_count": 88,
   "id": "e34a5f27",
   "metadata": {},
   "outputs": [
    {
     "data": {
      "image/png": "[encoded data removed]",
      "text/plain": [
       "<Figure size 432x288 with 1 Axes>"
      ]
     },
     "metadata": {
      "needs_background": "light"
     },
     "output_type": "display_data"
    },
    {
     "name": "stdout",
     "output_type": "stream",
     "text": [
      "As we can see the Devroye Bound is clearly the tightest bound on epsilon for a given N near N = 10000\n",
      "Therefore the correct answer choice is D\n"
     ]
    }
   ],
   "source": [
    "import sympy as sp\n",
    "from sympy.plotting import plot\n",
    "\n",
    "dvc = 50\n",
    "delta = 0.05\n",
    "n = sp.symbols('n', real=True)\n",
    "\n",
    "def mH(n):\n",
    "    return n**dvc\n",
    "\n",
    "def original_vc_bound(n):\n",
    "    return sp.sqrt((8/n) * sp.log(4 * mH(2*n)/delta))\n",
    "\n",
    "def rademacher_penalty_bound(n):\n",
    "    return sp.sqrt((2/n) * sp.log(2*n * mH(n))) + sp.sqrt((2/n) * sp.log(1/delta)) + 1/n\n",
    "\n",
    "def parrondo_van_den_broek_bound(n):\n",
    "    return (1/n) * (1 + sp.sqrt(1 + n * sp.log( 6 * mH(2*n) / delta)))\n",
    "\n",
    "def devroye_bound(n):\n",
    "    # apply log properties to not overflow 64bit float\n",
    "    return (1/(n-2)) + (1/(2*n-4)) * sp.sqrt(4 + (2*n-4) * (sp.log(4) + 2 * sp.log(mH(n)) - sp.log(delta) ))\n",
    "\n",
    "p1 = plot(sp.Abs(original_vc_bound(n)), (n, 9000, 10000), show=False, axis_center = (9000, 0), legend = True)\n",
    "p2 = plot(sp.Abs(rademacher_penalty_bound(n)), (n, 9000, 10000), show=False, axis_center = (9000, 0), legend = True)\n",
    "p3 = plot(sp.Abs(parrondo_van_den_broek_bound(n)), (n, 9000, 10000), show=False, axis_center = (9000, 0), legend = True)\n",
    "p4 = plot(sp.Abs(devroye_bound(n)), (n, 9000, 10000), show=False, axis_center = (9000, 0), legend = True)\n",
    "\n",
    "p1[0].label = 'Original VC Bound'\n",
    "p2[0].label = 'Rademacher Penalty Bound'\n",
    "p3[0].label = 'Parrondo Van Den Broek Bound'\n",
    "p4[0].label = 'Devroye Bound'\n",
    "\n",
    "p1.append(p2[0])\n",
    "p1.append(p3[0])\n",
    "p1.append(p4[0])\n",
    "\n",
    "p1.show()\n",
    "print('As we can see the Devroye Bound is clearly the tightest bound on epsilon for a given N near N = 10000')\n",
    "print('Therefore the correct answer choice is D')"
   ]
  },
  {
   "cell_type": "markdown",
   "id": "485fed4e",
   "metadata": {},
   "source": [
    "# Question 3, Answer C\n",
    "## Let's apply the same method as Question 2, but with N = 5"
   ]
  },
  {
   "cell_type": "code",
   "execution_count": 92,
   "id": "206c3f07",
   "metadata": {},
   "outputs": [
    {
     "data": {
      "image/png": "[encoded data removed]",
      "text/plain": [
       "<Figure size 432x288 with 1 Axes>"
      ]
     },
     "metadata": {
      "needs_background": "light"
     },
     "output_type": "display_data"
    },
    {
     "name": "stdout",
     "output_type": "stream",
     "text": [
      "As we can see the Parrondo Van Den Broek Bound is clearly the tightest bound on epsilon for a given N near N = 5\n",
      "Therefore the correct answer choice is C\n"
     ]
    }
   ],
   "source": [
    "import sympy as sp\n",
    "from sympy.plotting import plot\n",
    "\n",
    "dvc = 50\n",
    "delta = 0.05\n",
    "n = sp.symbols('n', real=True)\n",
    "\n",
    "def mH(n):\n",
    "    return n**dvc\n",
    "\n",
    "def original_vc_bound(n):\n",
    "    return sp.sqrt((8/n) * sp.log(4 * mH(2*n)/delta))\n",
    "\n",
    "def rademacher_penalty_bound(n):\n",
    "    return sp.sqrt((2/n) * sp.log(2*n * mH(n))) + sp.sqrt((2/n) * sp.log(1/delta)) + 1/n\n",
    "\n",
    "def parrondo_van_den_broek_bound(n):\n",
    "    return (1/n) * (1 + sp.sqrt(1 + n * sp.log( 6 * mH(2*n) / delta)))\n",
    "\n",
    "def devroye_bound(n):\n",
    "    # apply log properties to not overflow 64bit float\n",
    "    return (1/(n-2)) + (1/(2*n-4)) * sp.sqrt(4 + (2*n-4) * (sp.log(4) + 2 * sp.log(mH(n)) - sp.log(delta) ))\n",
    "\n",
    "p1 = plot(sp.Abs(original_vc_bound(n)), (n, 4, 6), show=False, axis_center = (4, 0), legend = True)\n",
    "p2 = plot(sp.Abs(rademacher_penalty_bound(n)), (n, 4, 6), show=False, axis_center = (4, 0), legend = True)\n",
    "p3 = plot(sp.Abs(parrondo_van_den_broek_bound(n)), (n, 4, 6), show=False, axis_center = (4, 0), legend = True)\n",
    "p4 = plot(sp.Abs(devroye_bound(n)), (n, 4, 6), show=False, axis_center = (4, 0), legend = True)\n",
    "\n",
    "p1[0].label = 'Original VC Bound'\n",
    "p2[0].label = 'Rademacher Penalty Bound'\n",
    "p3[0].label = 'Parrondo Van Den Broek Bound'\n",
    "p4[0].label = 'Devroye Bound'\n",
    "\n",
    "p1.append(p2[0])\n",
    "p1.append(p3[0])\n",
    "p1.append(p4[0])\n",
    "\n",
    "p1.show()\n",
    "print('As we can see the Parrondo Van Den Broek Bound is clearly the tightest bound on epsilon for a given N near N = 5')\n",
    "print('Therefore the correct answer choice is C')"
   ]
  },
  {
   "cell_type": "markdown",
   "id": "35f53b89",
   "metadata": {},
   "source": [
    "# Question 4, Answer E"
   ]
  },
  {
   "cell_type": "code",
   "execution_count": 158,
   "id": "79e70fe9",
   "metadata": {},
   "outputs": [],
   "source": [
    "import numpy as np\n",
    "import random\n",
    "import math\n",
    "import sympy as sp\n",
    "from scipy.integrate import quad\n",
    "\n",
    "def getX(x_coords):\n",
    "    return np.transpose(x_coords)\n",
    "\n",
    "def getY(points):\n",
    "    return points[:, 1]\n",
    "\n",
    "def run_linear_regression(X, y):\n",
    "    XtX = np.dot(X.T, X)\n",
    "    pinv_X = np.dot(1/XtX, X.T)\n",
    "    w = np.dot(pinv_X, y) # w = pseudo_inv(X)*y \n",
    "    return w "
   ]
  },
  {
   "cell_type": "code",
   "execution_count": 159,
   "id": "cfda3372",
   "metadata": {},
   "outputs": [
    {
     "name": "stdout",
     "output_type": "stream",
     "text": [
      "Average hypothesis: g_bar(x) = 1.427228341077092x\n",
      "As we can see, this does not match any of the answer choices to the 10ths decimal place.\n",
      "Therefore the answer choice E is the most correct\n"
     ]
    }
   ],
   "source": [
    "\n",
    "N_trials = 100000\n",
    "N_points = 2\n",
    "a_list = []\n",
    "for i in range(N_trials):\n",
    "    x_coords = np.random.uniform(-1, 1,size=(N_points))\n",
    "    points = np.array([x_coords, np.sin(math.pi * x_coords)])\n",
    "    points = np.transpose(points)\n",
    "    X = getX(x_coords)\n",
    "    y = getY(points)\n",
    "    a = run_linear_regression(X, y) # y = ax\n",
    "    \n",
    "    a_list.append(a)\n",
    "    \n",
    "a_set = np.array(a_list)\n",
    "a_expected = np.mean(a_set)\n",
    "\n",
    "# divide by two to get average value of bias over interval: 1/(b-a) factor on integral, b = 1, a = -1\n",
    "# bias(x) = (g_bar(x) - f(x))^2, so need to integrate over range of x and take avg value to get average bias\n",
    "bias = quad(lambda x: (a_expected*x - np.sin(np.pi*x))**2, -1, 1)[0]/2 \n",
    "\n",
    "\n",
    "print(f'Average hypothesis: g_bar(x) = {a_expected}x')\n",
    "print('As we can see, this does not match any of the answer choices to the 10ths decimal place.\\nTherefore the answer choice E is the most correct')"
   ]
  },
  {
   "cell_type": "markdown",
   "id": "ff7c7204",
   "metadata": {},
   "source": [
    "# Question 5, Answer B"
   ]
  },
  {
   "cell_type": "code",
   "execution_count": 160,
   "id": "ae26acbc",
   "metadata": {},
   "outputs": [
    {
     "name": "stdout",
     "output_type": "stream",
     "text": [
      "Bias of y = ax model is 0.2703917975781637\n",
      "Therefore the correct answer choice is B\n"
     ]
    }
   ],
   "source": [
    "print(f'Bias of y = ax model is {bias}')\n",
    "print(\"Therefore the correct answer choice is B\")"
   ]
  },
  {
   "cell_type": "markdown",
   "id": "56cc2614",
   "metadata": {},
   "source": [
    "# Question 6, Answer A"
   ]
  },
  {
   "cell_type": "code",
   "execution_count": 166,
   "id": "e83e767c",
   "metadata": {},
   "outputs": [
    {
     "name": "stdout",
     "output_type": "stream",
     "text": [
      "Variance of y = ax model is 0.23764727546229358\n",
      "Therefore the correct answer choice is A\n"
     ]
    }
   ],
   "source": [
    "var_list = []\n",
    "\n",
    "# calculating for each hypothesis to get expected value of variance over set of hypotheses\n",
    "for a in a_list:\n",
    "    # average squared difference between average hypothesis and current hypothesis a\n",
    "    # same method as bias\n",
    "    var = quad(lambda x: (a*x - a_expected*x)**2, -1, 1)[0]/2\n",
    "    var_list.append(var)\n",
    "\n",
    "variance = np.mean(np.array(var_list))\n",
    "print(f'Variance of y = ax model is {variance}')\n",
    "print(\"Therefore the correct answer choice is A\")"
   ]
  },
  {
   "cell_type": "markdown",
   "id": "6a89d0c1",
   "metadata": {},
   "source": [
    "# Question 7, Answer B"
   ]
  },
  {
   "cell_type": "code",
   "execution_count": 267,
   "id": "fce6c079",
   "metadata": {},
   "outputs": [],
   "source": [
    "'''\n",
    "H0: b\n",
    "H1: ax\n",
    "H2: ax + b\n",
    "H3: ax^ 2\n",
    "H4: ax^2 + b\n",
    "'''\n",
    "\n",
    "def f(x):\n",
    "    return np.sin(np.pi * x)\n",
    "\n",
    "def gen_random_test_points(N_values):\n",
    "    x_vals = np.random.uniform(-1, 1,size=(N_values))\n",
    "    test_points = np.array([np.ones(np.shape(x_vals)), x_vals, f(x_vals)])\n",
    "    return np.transpose(test_points) # N x 3 array        \n",
    "        \n",
    "\n",
    "# Each LinRegModel, gets an X matrix, a y vector\n",
    "class LinRegModel:\n",
    "    def form(self):\n",
    "        return \"\"\n",
    "    \n",
    "    def hyp(self, g_bar):\n",
    "        return \"\"\n",
    "    \n",
    "    def getX(self, x_coords):\n",
    "        raise NotImplementedError \n",
    "    \n",
    "    def run_lin_reg(self, points):\n",
    "        X = self.getX(points[:, 0:2])\n",
    "        XtX = X.T @ X\n",
    "        if np.isscalar(XtX):\n",
    "            pinv_X = np.dot(1/XtX, X.T)\n",
    "        else:\n",
    "            pinv_X = np.dot(np.linalg.pinv(XtX), X.T)\n",
    "        \n",
    "        self.w = np.dot(pinv_X, points[:, 2])# w = pseudo_inv(X)*y \n",
    "        return self.w\n",
    "        \n",
    "    def get_y_hat(self, x_coords):\n",
    "        X = self.getX(x_coords)\n",
    "        \n",
    "        if np.isscalar(self.w):\n",
    "            return self.w * X\n",
    "        else:\n",
    "            return X @ self.w\n",
    "    \n",
    "    def test_lin_reg(self, test_points):\n",
    "        y_predicted = self.get_y_hat(test_points[:, 0:2])\n",
    "        y_actual = test_points[:, 2]\n",
    "        \n",
    "        squared_error = np.mean((y_predicted - y_actual)**2)\n",
    "        return squared_error\n",
    "    \n",
    "    def calculate_bias(self, g_bar):\n",
    "        return None\n",
    "    \n",
    "    def calculate_variance(self, w, g_bar):\n",
    "        return None\n",
    "\n",
    "class H0(LinRegModel):\n",
    "    def form(self):\n",
    "        return \"y = b\"\n",
    "    \n",
    "    def hyp(self, g_bar):\n",
    "        return f'y = {g_bar}'\n",
    "    \n",
    "    def getX(self, x_coords):\n",
    "        return x_coords[:, 0]\n",
    "\n",
    "    def calculate_bias(self, g_bar):\n",
    "        return quad(lambda x: (g_bar - np.sin(np.pi*x))**2, -1, 1)[0]/2 \n",
    "    \n",
    "    def calculate_variance(self, w, g_bar):\n",
    "        return quad(lambda x: (w - g_bar)**2, -1, 1)[0]/2\n",
    "    \n",
    "class H1(LinRegModel):\n",
    "    def form(self):\n",
    "        return \"y = ax\"\n",
    "    \n",
    "    def hyp(self, g_bar):\n",
    "        return f'y = {g_bar}x'\n",
    "    \n",
    "    def getX(self, x_coords):\n",
    "        return x_coords[:, 1]\n",
    "    \n",
    "    def calculate_bias(self, g_bar):\n",
    "        return quad(lambda x: (g_bar*x - np.sin(np.pi*x))**2, -1, 1)[0]/2 \n",
    "    \n",
    "    def calculate_variance(self, w, g_bar):\n",
    "        return quad(lambda x: (w*x - g_bar*x)**2, -1, 1)[0]/2\n",
    "\n",
    "        \n",
    "class H2(LinRegModel):\n",
    "    def form(self):\n",
    "        return \"y = ax + b\"\n",
    "    \n",
    "    def hyp(self, g_bar):\n",
    "        return f'y ={g_bar[1]}x + {g_bar[0]}'\n",
    "    \n",
    "    def getX(self, x_coords):\n",
    "        return x_coords\n",
    "\n",
    "    def calculate_bias(self, g_bar):\n",
    "        return quad(lambda x: (g_bar[1]*x + g_bar[0] - np.sin(np.pi*x))**2, -1, 1)[0]/2 \n",
    "    \n",
    "    def calculate_variance(self, w, g_bar):\n",
    "        return quad(lambda x: (w[1]*x + w[0] - (g_bar[1]*x + g_bar[0]))**2, -1, 1)[0]/2\n",
    "    \n",
    "    \n",
    "class H3(LinRegModel):\n",
    "    def form(self):\n",
    "        return \"y = ax^2\"\n",
    "\n",
    "    def hyp(self, g_bar):\n",
    "        return f'y = {g_bar}x^2'\n",
    "\n",
    "    def getX(self, x_coords):\n",
    "        return np.array([x**2 for x in x_coords[:, 1]])\n",
    "    \n",
    "    def calculate_bias(self, g_bar):\n",
    "        return quad(lambda x: (g_bar*(x**2) - np.sin(np.pi*x))**2, -1, 1)[0]/2 \n",
    "    \n",
    "    def calculate_variance(self, w, g_bar):\n",
    "        return quad(lambda x: (w*(x)**2 - g_bar*(x)**2)**2, -1, 1)[0]/2\n",
    "\n",
    "class H4(LinRegModel):\n",
    "    def form(self):\n",
    "        return \"y = ax^2 + b\"\n",
    "\n",
    "    def hyp(self, g_bar):\n",
    "        return f'y = {g_bar[1]}x^2 + {g_bar[0]}'    \n",
    "\n",
    "    def getX(self, x_coords):\n",
    "        return np.array([[x_coords[i, 0], x_coords[i, 1]**2] for i in range(x_coords.shape[0])])\n",
    "    \n",
    "    def calculate_bias(self, g_bar):\n",
    "        return quad(lambda x: (g_bar[1]*(x**2) + g_bar[0] - np.sin(np.pi*x))**2, -1, 1)[0]/2 \n",
    "    \n",
    "    def calculate_variance(self, w, g_bar):\n",
    "        return quad(lambda x: (w[1]*(x)**2 + w[0] - (g_bar[1]*(x)**2 + g_bar[0]))**2, -1, 1)[0]/2\n",
    "    "
   ]
  },
  {
   "cell_type": "code",
   "execution_count": 266,
   "id": "0e64d770",
   "metadata": {},
   "outputs": [
    {
     "name": "stdout",
     "output_type": "stream",
     "text": [
      "y = b\n",
      "For hypothesis y = b:\n",
      "Expected out of sample error is 0.7437258682438971\n",
      "Bias: 0.5000261863583714\n",
      "Variance: 0.24904186542092083\n",
      "Average Hypothesis g_bar is y = -0.00511726082697727\n",
      "\n",
      "y = ax\n",
      "For hypothesis y = ax:\n",
      "Expected out of sample error is 0.5136697375130006\n",
      "Bias: 0.2728996259355715\n",
      "Variance: 0.23791185731277129\n",
      "Average Hypothesis g_bar is y = 1.435127045661875x\n",
      "\n",
      "y = ax + b\n",
      "For hypothesis y = ax + b:\n",
      "Expected out of sample error is 1.7878948902042546\n",
      "Bias: 0.20738140568210792\n",
      "Variance: 1.6273279305766841\n",
      "Average Hypothesis g_bar is y =0.7706184079692578x + -0.004627192677378728\n",
      "\n",
      "y = ax^2\n",
      "For hypothesis y = ax^2:\n",
      "Expected out of sample error is 13.227849697083046\n",
      "Bias: 0.5003757383919868\n",
      "Variance: 12.86273585654393\n",
      "Average Hypothesis g_bar is y = -0.04334388030545655x^2\n",
      "\n",
      "y = ax^2 + b\n",
      "For hypothesis y = ax^2 + b:\n",
      "Expected out of sample error is 8315.11379349852\n",
      "Bias: 3.0611734769625203\n",
      "Variance: 12306.15648710026\n",
      "Average Hypothesis g_bar is y = -3.894621806986259x^2 + 0.1968899730518376\n",
      "\n",
      "We can clearly see the Linear Model y = ax has the lowest expected out of sample error at E_out = 0.5\n",
      "Therefore the correct answer choice is B\n"
     ]
    }
   ],
   "source": [
    "N_points = 2\n",
    "N_trials = 10000\n",
    "N_test_points = 10000\n",
    "\n",
    "# for each hypothesis set\n",
    "for model in [H0, H1, H2, H3, H4]:\n",
    "    model = model()\n",
    "    print(model.form())\n",
    "    E_out_list = []\n",
    "    w_list = []\n",
    "    # run each model 10000 times\n",
    "    for i in range(N_trials):\n",
    "        \n",
    "        # generate random points\n",
    "        x_coords = np.random.uniform(-1, 1,size=(N_points))\n",
    "        points = np.array([np.ones(np.shape(x_coords)), x_coords, f(x_coords)])\n",
    "        points = np.transpose(points)\n",
    "        \n",
    "        # fit those points using linear regression\n",
    "        w = model.run_lin_reg(points)\n",
    "        \n",
    "        # get expected out of sample error by generating 10000 x coordinates, getting their function value(ground truth)\n",
    "        # and getting predicted value(model prediction)\n",
    "        test_points = gen_random_test_points(N_points)\n",
    "        E_out = model.test_lin_reg(test_points)\n",
    "        \n",
    "        E_out_list.append(E_out)\n",
    "        w_list.append(w)\n",
    "        \n",
    "    E_out_arr = np.array(E_out_list)\n",
    "    mean_E_out = np.mean(E_out_arr) # mean out of sample error\n",
    "    \n",
    "    w_arr = np.array(w_list)\n",
    "    g_bar = np.mean(w_arr, axis = 0) # average hypothesis\n",
    "    \n",
    "    # calculating bias using g_bar\n",
    "    bias = model.calculate_bias(g_bar)\n",
    "    \n",
    "    \n",
    "    variance_list = []\n",
    "    # calculating for each hypothesis to get expected value of variance over set of hypotheses\n",
    "    for w in w_list:\n",
    "        # average squared difference between average hypothesis and current hypothesis a\n",
    "        # same method as bias\n",
    "        var = model.calculate_variance(w, g_bar)\n",
    "        variance_list.append(var)\n",
    "    \n",
    "    #calculating mean variance\n",
    "    variance = np.mean(np.array(variance_list))\n",
    "    \n",
    "    print(f'For hypothesis {model.form()}:\\nExpected out of sample error is {mean_E_out}')\n",
    "    print(f'Bias: {bias}')\n",
    "    print(f'Variance: {variance}')\n",
    "    print(f'Average Hypothesis g_bar is {model.hyp(g_bar)}')\n",
    "    print()\n",
    "    \n",
    "print('We can clearly see the Linear Model y = ax has the lowest expected out of sample error at E_out = 0.5')\n",
    "print('Therefore the correct answer choice is B')"
   ]
  },
  {
   "cell_type": "markdown",
   "id": "a2c37fdf",
   "metadata": {},
   "source": [
    "# Question 8, Answer C\n",
    "### Let's list out some of the values of the growth function to see a pattern\n",
    "\n",
    "$$m_H(1) = 2$$\n",
    "\n",
    "$$m_H(2) = 2 * 2 - {1 \\choose q} = 4 - {1 \\choose q} $$\n",
    "#### As we can see, if q is greater than 1, 2 is not a break point\n",
    "#### If q is equal to 1, then 2 is a breakpoint\n",
    "\n",
    "$$m_H(3) = 2 * m_H(2) - {2 \\choose q}$$\n",
    "#### As we can see, if q is greater than 2 and 2 is not a breakpoint, 3 is not a break point\n",
    "#### If q is equal to 2, then 3 is a breakpoint\n",
    "\n",
    "\n",
    "### Such a pattern continues of the break point's value being k = q + 1\n",
    "### Since dvc = k -1, dvc = q. Therefore Answer choice C is the best answer"
   ]
  },
  {
   "cell_type": "markdown",
   "id": "c2ed8cd6",
   "metadata": {},
   "source": [
    "# Question 9, Answer B\n",
    "\n",
    "### If the hypothesis sets are disjoint, their intersection is the empty set, which therefore has the VC dimension 0. This the minimum VC dimension, as it can not be a negative number. Therefore, we can eliminate answers D and E\n",
    "\n",
    "### If the hypothesis sets overlap entirely, then their intersection is a single set (the smallest hypothesis set of the group). Therefore, the maximum VC dimension of this hypothesis set is the minimum of the VC dimensions of all of the sets.\n",
    "\n",
    "### Therefore, Answer choice B is the correct answer"
   ]
  },
  {
   "cell_type": "markdown",
   "id": "f87eac23",
   "metadata": {},
   "source": [
    "# Question 10, Answer E\n",
    "\n",
    "### The smallest possible union of sets is the size of the largest set. Therefore the minimum VC dimension of the union is the maximum VC dimension of the set of hypothesis sets.\n",
    "\n",
    "### The largest possible union of sets is when the sets are disjoint. This bound is a bit difficult, so consider the following case with 2 sets, and we will extend it to K sets at the end."
   ]
  }
 ],
 "metadata": {
  "kernelspec": {
   "display_name": "Python 3 (ipykernel)",
   "language": "python",
   "name": "python3"
  },
  "language_info": {
   "codemirror_mode": {
    "name": "ipython",
    "version": 3
   },
   "file_extension": ".py",
   "mimetype": "text/x-python",
   "name": "python",
   "nbconvert_exporter": "python",
   "pygments_lexer": "ipython3",
   "version": "3.9.12"
  }
 },
 "nbformat": 4,
 "nbformat_minor": 5
}
