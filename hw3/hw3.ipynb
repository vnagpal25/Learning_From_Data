{
 "cells": [
  {
   "cell_type": "code",
   "execution_count": 6,
   "id": "0669e4d4",
   "metadata": {},
   "outputs": [
    {
     "name": "stdout",
     "output_type": "stream",
     "text": [
      "With probability P = 0.03, 839 samples are needed to guarantee that the difference between the in sample error and out of sample error will not be greater than epsilon = 0.05\n"
     ]
    }
   ],
   "source": [
    "'''\n",
    "QUESTION 1\n",
    "P <= 2Me^(-2 * epsilon ^ 2 * N)= P_max\n",
    "2Me^(-2 * epsilon ^ 2 * N)= P_max\n",
    "\n",
    "After some algebra, you can derive this expression for N:\n",
    "\n",
    "N = ln(2M / P_max) / (2 * (epsilon)^2)\n",
    "'''\n",
    "import math\n",
    "\n",
    "\n",
    "\n",
    "epsilon = 0.05\n",
    "P_max = 0.03\n",
    "M = 1\n",
    "N = (math.log(2 * M / P_max)) / (2 * (epsilon) ** 2)\n",
    "print(f'With probability P = {P_max}, {math.floor(N)} samples are needed to guarantee that the difference between the in sample error and out of sample error will not be greater than epsilon = {epsilon}')\n",
    "\n",
    "'''\n",
    "Therefore, the answer is closest to answer choice B: 1000 samples\n",
    "'''"
   ]
  },
  {
   "cell_type": "code",
   "execution_count": 7,
   "id": "a018dc3e",
   "metadata": {},
   "outputs": [
    {
     "name": "stdout",
     "output_type": "stream",
     "text": [
      "With probability P = 0.03, 1300 samples are needed to guarantee that the difference between the in sample error and out of sample error will not be greater than epsilon = 0.05\n"
     ]
    },
    {
     "data": {
      "text/plain": [
       "'\\nTherefore, the answer is closest to answer choice b: 1000 samples\\n'"
      ]
     },
     "execution_count": 7,
     "metadata": {},
     "output_type": "execute_result"
    }
   ],
   "source": [
    "'''\n",
    "QUESTION 2\n",
    "Same derivation as Question 1\n",
    "'''\n",
    "import math\n",
    "\n",
    "\n",
    "\n",
    "epsilon = 0.05\n",
    "P_max = 0.03\n",
    "M = 10\n",
    "N = (math.log(2 * M / P_max)) / (2 * (epsilon) ** 2)\n",
    "print(f'With probability P = {P_max}, {math.floor(N)} samples are needed to guarantee that the difference between the in sample error and out of sample error will not be greater than epsilon = {epsilon}')\n",
    "\n",
    "'''\n",
    "Therefore, the answer is closest to answer choice C: 1500 samples\n",
    "'''"
   ]
  },
  {
   "cell_type": "code",
   "execution_count": 9,
   "id": "64f91f35",
   "metadata": {},
   "outputs": [
    {
     "name": "stdout",
     "output_type": "stream",
     "text": [
      "With probability P = 0.03, 1760 samples are needed to guarantee that the difference between the in sample error and out of sample error will not be greater than epsilon = 0.05\n"
     ]
    },
    {
     "data": {
      "text/plain": [
       "'\\nTherefore, the answer is closest to answer choice D: 2000 samples\\n'"
      ]
     },
     "execution_count": 9,
     "metadata": {},
     "output_type": "execute_result"
    }
   ],
   "source": [
    "'''\n",
    "QUESTION 3\n",
    "Same derivation as Question 1\n",
    "'''\n",
    "import math\n",
    "\n",
    "\n",
    "\n",
    "epsilon = 0.05\n",
    "P_max = 0.03\n",
    "M = 100\n",
    "N = (math.log(2 * M / P_max)) / (2 * (epsilon) ** 2)\n",
    "print(f'With probability P = {P_max}, {math.floor(N)} samples are needed to guarantee that the difference between the in sample error and out of sample error will not be greater than epsilon = {epsilon}')\n",
    "\n",
    "'''\n",
    "Therefore, the answer is closest to answer choice D: 2000 samples\n",
    "'''"
   ]
  },
  {
   "cell_type": "code",
   "execution_count": 53,
   "id": "8bd00e5e",
   "metadata": {},
   "outputs": [
    {
     "data": {
      "image/png": "[encoded data removed]",
      "text/plain": [
       "<Figure size 432x288 with 1 Axes>"
      ]
     },
     "metadata": {
      "needs_background": "light"
     },
     "output_type": "display_data"
    },
    {
     "name": "stdout",
     "output_type": "stream",
     "text": [
      "The plotted dichtomy is not possible with planar seperation using the 3D perceptron\n"
     ]
    }
   ],
   "source": [
    "'''\n",
    "Question 4\n",
    "Answer B\n",
    "Consider a tetrahedron in 3D space and also consider a point outside this tetrahedron.\n",
    "Consider a plane to be made from 3 points in the tetrahedron. This face of the shape is facing the point.\n",
    "Consider the dichotomy that we want the point outside this tetrahedron and the point not making up the face \n",
    "facing the point outside to both be blue and the others be red.\n",
    "This is not possible with a plane, therefore the breakpoint is 5 in the 3D case for the perceptron hypothesis set.\n",
    "'''\n",
    "import numpy as np\n",
    "import matplotlib.pyplot as plt\n",
    "from mpl_toolkits import mplot3d\n",
    "%matplotlib inline\n",
    "\n",
    "fig = plt.figure()\n",
    "ax = plt.axes(projection='3d')\n",
    "ax.set_xlabel('x')\n",
    "ax.set_ylabel('y')\n",
    "ax.set_zlabel('z')\n",
    "x = [0, 2, 0, 0, 0, 2, 0]\n",
    "y = [0, 0, 2, 0, 0, 0, 0]\n",
    "z = [0, 0, 0, 2, 0, 0, 2]\n",
    "ax.scatter(x, y, z, c = 'red', zorder = 1)\n",
    "ax.plot(x, y, z, color = 'black')\n",
    "ax.scatter(0, 0, 0, c = 'blue', zorder = 0, marker = 's', s= 100)\n",
    "ax.scatter(4, 4, 4, c = 'blue', marker = 's', s= 100)\n",
    "\n",
    "plt.show()\n",
    "print('The plotted dichtomy is not possible with planar seperation using the 3D perceptron')\n"
   ]
  },
  {
   "cell_type": "code",
   "execution_count": null,
   "id": "14205d90",
   "metadata": {},
   "outputs": [],
   "source": [
    "'''\n",
    "Question 5\n",
    "\n",
    "i) N + 1\n",
    "ii) N + 1 + Nchoose2\n",
    "iii) Sigma(i = 1 to floor(sqrt(N)), N choose i)\n",
    "iv)2 ^ floor(N/2)\n",
    "v)2^N\n",
    "'''\n",
    "\n",
    "'''\n",
    "i\n",
    "\n",
    "N = 1, m = 1 + 1 = 2\n",
    "N = 2, m = 2 + 1 = 3 < 4\n",
    "Break point is k = 2\n",
    "\n",
    "Therefore, by Theorem 2.4, mh(N) <= N + 1\n",
    "This bound equals mh(N) therefore this is a valid growth function\n",
    "\n",
    "\n",
    "ii\n",
    "N = 1, m= 1 + 1 + 0 = 2\n",
    "N = 2, m = 2 + 1 + 1 = 4\n",
    "N = 3, m = 3 + 1 + 3 = 7 < 8\n",
    "Break point is k = 3\n",
    "\n",
    "Therfore by Theorem 2.4, mh(N) <= (N^2 + N + 2)/2 \n",
    "This bound equals the mh(n) therefore this is a valid growth function\n",
    "\n",
    "\n",
    "iii\n",
    "N = 1, m = 1 < 2\n",
    "Break point is k = 1\n",
    "\n",
    "Therefore by Theorem 2.4, mh(N) <= 1\n",
    "This is false, because for N = 4, m = 10\n",
    "Therefore this is not a valid growth function\n",
    "\n",
    "\n",
    "iv\n",
    "N = 1, m = 1 < 2\n",
    "Break point is k = 1\n",
    "\n",
    "Therefore by Theorem 2.4, mh(N) <= 1\n",
    "This is false, because for N = 4, m = 4\n",
    "Therefore this is not a valid growth function\n",
    "\n",
    "v\n",
    "This is a valid growth function as it defines all possible dichotomies without a break point.\n",
    "\n",
    "\n",
    "Therefore the correct answers are i, ii, and v which corresponds to answer choice B.\n",
    "'''"
   ]
  },
  {
   "cell_type": "code",
   "execution_count": null,
   "id": "5e6cef3e",
   "metadata": {},
   "outputs": [],
   "source": [
    "'''\n",
    "Question 6\n",
    "Consider the following dichotomy:\n",
    "oxoxo\n",
    "\n",
    "No placement of two intervals can guarantee the 3 points to be + 1, while the other 2 to be -1.\n",
    "Therefore the smallest break point is 5, which is answer C\n",
    "'''"
   ]
  },
  {
   "cell_type": "code",
   "execution_count": 58,
   "id": "158c4d04",
   "metadata": {},
   "outputs": [
    {
     "name": "stdout",
     "output_type": "stream",
     "text": [
      "\n",
      "A\n",
      "1 0.0\n",
      "2 0.0\n",
      "3 1.0\n",
      "4 5.0\n",
      "5 15.0\n",
      "6 35.0\n",
      "\n",
      "B\n",
      "1 2.0\n",
      "2 4.0\n",
      "3 7.0\n",
      "4 11.0\n",
      "5 16.0\n",
      "6 22.0\n",
      "\n",
      "C\n",
      "1 2.0\n",
      "2 4.0\n",
      "3 8.0\n",
      "4 16.0\n",
      "5 31.0\n",
      "6 57.0\n",
      "\n",
      "D\n",
      "1 4.0\n",
      "2 8.0\n",
      "3 16.0\n",
      "4 31.0\n",
      "5 57.0\n",
      "6 99.0\n",
      "Only B and C seem to follow the expected trend of 2^N in the beginning. B is incorrect because it shows that the break point is k = 3.\n",
      "Therefore C is correct. Can also think of it as the ways to choose 4 locations (2 intervals) + the ways to choose 2 locations (1 overlapping intervals) + the ways to choose no locations(1)\n"
     ]
    }
   ],
   "source": [
    "'''\n",
    "Question 7\n",
    "Answer C\n",
    "\n",
    "\n",
    "'''\n",
    "from scipy.special import comb as choose\n",
    "\n",
    "def alt_a(N):\n",
    "    return choose(N+1, 4)\n",
    "\n",
    "def alt_b(N):\n",
    "    return choose(N+1, 2) + 1\n",
    "\n",
    "def alt_c(N):\n",
    "    return choose(N+1, 4) + choose(N+1, 2) + 1\n",
    "\n",
    "def alt_d(N):\n",
    "    return choose(N+1, 4) + choose(N+1, 3) + choose(N+1, 2) + choose(N+1, 1) + 1\n",
    "\n",
    "print(\"\\nA\")\n",
    "for i in range(1, 7):\n",
    "    print(i, alt_a(i))\n",
    "\n",
    "print(\"\\nB\")    \n",
    "for i in range(1, 7):\n",
    "    print(i, alt_b(i))\n",
    "\n",
    "print(\"\\nC\")    \n",
    "for i in range(1, 7):\n",
    "    print(i, alt_c(i))\n",
    "    \n",
    "print(\"\\nD\")    \n",
    "for i in range(1, 7):\n",
    "    print(i, alt_d(i))\n",
    "    \n",
    "print(\"Only B and C seem to follow the expected trend of 2^N in the beginning. B is incorrect because it shows that the break point is k = 3.\\n\"\n",
    "\"Therefore C is correct. Can also think of it as the ways to choose 4 locations (2 intervals) + the ways to choose 2 locations (1 overlapping intervals) + the ways to choose no locations(1)\")"
   ]
  },
  {
   "cell_type": "code",
   "execution_count": null,
   "id": "2f739688",
   "metadata": {},
   "outputs": [],
   "source": [
    "'''\n",
    "Question 8\n",
    "In the general case of M intervals, what is the growth function?\n",
    "\n",
    "Well we know that for 1 interval, the break point was k = 3\n",
    "We just discovered that for 2 intervals, the break point is k = 5\n",
    "We can also show that for 3 intervals, the break point is k = 7\n",
    "\n",
    "A plausible guess is k = 2M + 1 for M intervals from this pattern.\n",
    "We can confirm this is the answer as it is the only one that follows the pattern.\n",
    "\n",
    "Answer D\n",
    "'''"
   ]
  },
  {
   "cell_type": "code",
   "execution_count": null,
   "id": "badd4edd",
   "metadata": {},
   "outputs": [],
   "source": [
    "'''\n",
    "Question 9\n",
    "Answer D\n",
    "For sets of N points, consider N-gons(convex sets of N points)\n",
    "It is trivial to see that for these convex sets, we can shatter all sets of size 1, 2, and 3\n",
    "For size 4-7, we can also tediously mark all dichotomies, and shatter the sets as well.\n",
    "\n",
    "For size 8, we have an octagon. Take 4 points alternating aroundt the octagon and mark them as +1\n",
    "and the other 4 to be -1. No such triangle will cover this dichotomy without including one of the -1 points,\n",
    "thereby misclassifying it. Therefore the largest set that can be shattered is of size N = 7.\n",
    "'''"
   ]
  },
  {
   "cell_type": "code",
   "execution_count": null,
   "id": "ca354517",
   "metadata": {},
   "outputs": [],
   "source": [
    "'''\n",
    "Question 10\n",
    "Answer B\n",
    "This is the same growth function as the 1 interval hypothesis on a number line.\n",
    "It is just extended to R2.\n",
    "'''"
   ]
  }
 ],
 "metadata": {
  "kernelspec": {
   "display_name": "Python 3 (ipykernel)",
   "language": "python",
   "name": "python3"
  },
  "language_info": {
   "codemirror_mode": {
    "name": "ipython",
    "version": 3
   },
   "file_extension": ".py",
   "mimetype": "text/x-python",
   "name": "python",
   "nbconvert_exporter": "python",
   "pygments_lexer": "ipython3",
   "version": "3.9.12"
  }
 },
 "nbformat": 4,
 "nbformat_minor": 5
}
