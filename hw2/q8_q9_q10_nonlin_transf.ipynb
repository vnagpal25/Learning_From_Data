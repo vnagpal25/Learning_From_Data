{
 "cells": [
  {
   "cell_type": "code",
   "execution_count": 2,
   "id": "50f3c2f1",
   "metadata": {},
   "outputs": [],
   "source": [
    "import numpy as np\n",
    "import random"
   ]
  },
  {
   "cell_type": "code",
   "execution_count": 14,
   "id": "eb9bb75a",
   "metadata": {},
   "outputs": [],
   "source": [
    "'''\n",
    "QUESTION 8\n",
    "'''\n",
    "def y_target(point):\n",
    "    return np.sign(point[1]**2 + point[2]**2 - 0.6)\n",
    "\n",
    "def run_linear_regression(X, y):\n",
    "    pinv_X = np.dot(np.linalg.pinv(np.dot(X.T, X)), X.T)\n",
    "    w = np.dot(pinv_X, y)# w = pseudo_inv(X)*y \n",
    "    return w"
   ]
  },
  {
   "cell_type": "code",
   "execution_count": 19,
   "id": "e3a6c532",
   "metadata": {},
   "outputs": [
    {
     "name": "stdout",
     "output_type": "stream",
     "text": [
      "Average in-sample error:  [0.506292]\n"
     ]
    }
   ],
   "source": [
    "'''\n",
    "QUESTION 8\n",
    "'''\n",
    "N_training_points = 1000\n",
    "N_experiments = 1000\n",
    "E_in_list = []\n",
    "for i in range(N_experiments):\n",
    "    x_n = np.concatenate((np.ones((N_training_points, 1)), np.random.uniform(-1, 1, size=(N_training_points, 2))), axis = 1)\n",
    "    y_n = np.zeros((N_training_points, 1))\n",
    "    \n",
    "    for i, point in enumerate(x_n):\n",
    "        y_n[i] = y_target(point)\n",
    "    \n",
    "    noisy_indices = [random.randint(0, N_training_points - 1) for _ in range(N_training_points//10)]\n",
    "    \n",
    "    y_n[noisy_indices] *= -1\n",
    "    \n",
    "    w_regression = run_linear_regression(x_n, y_n)\n",
    "    \n",
    "    y_predicted = np.sign(np.dot(x_n, w_regression))\n",
    "    \n",
    "    E_in = sum(y_n != y_predicted) / N_training_points # calculating in sample error\n",
    "\n",
    "    E_in_list.append(E_in)\n",
    "\n",
    "E_in_avg = sum(E_in_list)/len(E_in_list)\n",
    "print(\"Average in-sample error: \", E_in_avg)"
   ]
  },
  {
   "cell_type": "code",
   "execution_count": 28,
   "id": "1e7ce105",
   "metadata": {},
   "outputs": [
    {
     "name": "stdout",
     "output_type": "stream",
     "text": [
      "Average weights:  [[-1.00406837e+00]\n",
      " [-1.32649403e-03]\n",
      " [-1.57037476e-03]\n",
      " [ 4.91144491e-03]\n",
      " [ 1.57722750e+00]\n",
      " [ 1.57737657e+00]]\n"
     ]
    }
   ],
   "source": [
    "'''\n",
    "QUESTION 9\n",
    "'''\n",
    "N_training_points = 1000\n",
    "N_experiments = 1000\n",
    "E_in_list = []\n",
    "g_list = []\n",
    "for i in range(N_experiments):\n",
    "    x_n = np.concatenate((np.ones((N_training_points, 1)), np.random.uniform(-1, 1, size=(N_training_points, 2))), axis = 1)\n",
    "    \n",
    "    # (1, x1, x2, x1x2, x1^2, x2^2) transformation\n",
    "    x_n_transformed = np.array([(1, point[1], point[2], point[1]*point[2], point[1]**2, point[2]**2) for point in x_n])\n",
    "    \n",
    "    y_n = np.zeros((N_training_points, 1))\n",
    "    \n",
    "    for i, point in enumerate(x_n):\n",
    "        y_n[i] = y_target(point)\n",
    "    \n",
    "    noisy_indices = [random.randint(0, N_training_points - 1) for _ in range(N_training_points//10)]\n",
    "    \n",
    "    y_n[noisy_indices] *= -1\n",
    "    \n",
    "    w_regression = run_linear_regression(x_n_transformed, y_n)\n",
    "    \n",
    "    y_predicted = np.sign(np.dot(x_n_transformed, w_regression))\n",
    "    \n",
    "    E_in = sum(y_n != y_predicted) / N_training_points # calculating in sample error\n",
    "\n",
    "    E_in_list.append(E_in)\n",
    "    \n",
    "    g_list.append(w_regression)\n",
    "\n",
    "E_in_avg = sum(E_in_list)/len(E_in_list)\n",
    "w_avg = sum(g_list)/len(g_list)\n",
    "print(\"Average weights: \", w_avg)"
   ]
  },
  {
   "cell_type": "code",
   "execution_count": 29,
   "id": "c5c9b1ac",
   "metadata": {},
   "outputs": [
    {
     "name": "stdout",
     "output_type": "stream",
     "text": [
      "Out of sample error:  0.121507\n"
     ]
    }
   ],
   "source": [
    "'''\n",
    "QUESTION 10\n",
    "'''\n",
    "N_trials = 1000\n",
    "N_points = 1000\n",
    "E_out_list = []\n",
    "\n",
    "for i, g in enumerate(g_list):\n",
    "    x_test_points = np.concatenate((np.ones((N_points, 1)), np.random.uniform(-1, 1, size=(N_points, 2))), axis = 1)\n",
    "    \n",
    "    # (1, x1, x2, x1x2, x1^2, x2^2) transformation\n",
    "    x_test_points_transformed = np.array([(1, point[1], point[2], point[1]*point[2], point[1]**2, point[2]**2) for point in x_test_points])\n",
    "    \n",
    "    y_n = np.zeros((N_points, 1))\n",
    "    \n",
    "    for i, point in enumerate(x_test_points):\n",
    "        y_n[i] = y_target(point)\n",
    "    \n",
    "    noisy_indices = [random.randint(0, N_points - 1) for _ in range(N_points//10)]\n",
    "    \n",
    "    y_n[noisy_indices] *= -1\n",
    "    \n",
    "    y_predicted = np.sign(np.dot(x_test_points_transformed, g))\n",
    "    \n",
    "    E_out = sum(y_n != y_predicted) / N_points # calculating out of sample error\n",
    "\n",
    "    E_out_list.append(E_out)\n",
    "\n",
    "print(\"Out of sample error: \", np.mean(E_out_list))"
   ]
  },
  {
   "cell_type": "code",
   "execution_count": null,
   "id": "47c9b9d4",
   "metadata": {},
   "outputs": [],
   "source": []
  }
 ],
 "metadata": {
  "kernelspec": {
   "display_name": "Python 3 (ipykernel)",
   "language": "python",
   "name": "python3"
  },
  "language_info": {
   "codemirror_mode": {
    "name": "ipython",
    "version": 3
   },
   "file_extension": ".py",
   "mimetype": "text/x-python",
   "name": "python",
   "nbconvert_exporter": "python",
   "pygments_lexer": "ipython3",
   "version": "3.9.12"
  }
 },
 "nbformat": 4,
 "nbformat_minor": 5
}
