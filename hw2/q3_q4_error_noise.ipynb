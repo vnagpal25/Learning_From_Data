{
 "cells": [
  {
   "cell_type": "code",
   "execution_count": null,
   "id": "902e7154",
   "metadata": {},
   "outputs": [],
   "source": [
    "'''\n",
    "Q3: What is the probability of error that h makes in approximating y? Hint: Two\n",
    "wrongs can make a right!\n",
    "\n",
    "What is an error in this case?\n",
    "Case 1: When the hypothesis correctly approximates f, but f is noisy.\n",
    "Case 2: When the hypotehsis doesn't approximate f, and f isn't noisy.\n",
    "\n",
    "Case 1: h(x) = f(x) and y != f(x)\n",
    "Case 2: h(x) != f(x) and y = f(x)\n",
    "\n",
    "Case 1: (1 - mu) * (1 - lambda)\n",
    "Case 2: mu * lambda\n",
    "\n",
    "Therefore, the probability is (1-mu)(1-lambda) + mu*lambda, which is E\n",
    "\n",
    "If hypothesis correctly approximates f, and f isn't noisy, then h is correct\n",
    "If hypothesis wrongly approximates f, and f is noisy, h is still correct.\n",
    "'''"
   ]
  },
  {
   "cell_type": "code",
   "execution_count": null,
   "id": "98e57630",
   "metadata": {},
   "outputs": [],
   "source": [
    "'''\n",
    "Q4: \n",
    "At what value of λ will the performance of h be independent of µ?\n",
    "\n",
    "So the probability of h making an error in approximating y is:\n",
    "P(h(x) = y) = (1-mu)(1-lambda) + mu*lambda\n",
    "\n",
    "If we pick lambda = 1/2, we get\n",
    "P(h(x) = y) = 1/2\n",
    "\n",
    "This is indepdent of mu, therefore B is the correct answer\n",
    "\n",
    "\n",
    "What does this answer mean though?\n",
    "If the targets are noisy half of the time, then however good our hypothesis\n",
    "is at approximating f does not matter.\n",
    "'''"
   ]
  }
 ],
 "metadata": {
  "kernelspec": {
   "display_name": "Python 3 (ipykernel)",
   "language": "python",
   "name": "python3"
  },
  "language_info": {
   "codemirror_mode": {
    "name": "ipython",
    "version": 3
   },
   "file_extension": ".py",
   "mimetype": "text/x-python",
   "name": "python",
   "nbconvert_exporter": "python",
   "pygments_lexer": "ipython3",
   "version": "3.9.12"
  }
 },
 "nbformat": 4,
 "nbformat_minor": 5
}
