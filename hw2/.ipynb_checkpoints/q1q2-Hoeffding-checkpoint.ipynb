{
 "cells": [
  {
   "cell_type": "code",
   "execution_count": 98,
   "id": "67724ca4",
   "metadata": {},
   "outputs": [
    {
     "ename": "AttributeError",
     "evalue": "'list' object has no attribute 'appends'",
     "output_type": "error",
     "traceback": [
      "\u001b[1;31m---------------------------------------------------------------------------\u001b[0m",
      "\u001b[1;31mAttributeError\u001b[0m                            Traceback (most recent call last)",
      "Input \u001b[1;32mIn [98]\u001b[0m, in \u001b[0;36m<cell line: 13>\u001b[1;34m()\u001b[0m\n\u001b[0;32m     31\u001b[0m v_rand \u001b[38;5;241m=\u001b[39m heads_frequencies[random\u001b[38;5;241m.\u001b[39mrandint(\u001b[38;5;241m0\u001b[39m, N_coins \u001b[38;5;241m-\u001b[39m \u001b[38;5;241m1\u001b[39m)]\n\u001b[0;32m     32\u001b[0m v_min \u001b[38;5;241m=\u001b[39m \u001b[38;5;28mmin\u001b[39m(heads_frequencies)\n\u001b[1;32m---> 34\u001b[0m \u001b[43mv_1s\u001b[49m\u001b[38;5;241;43m.\u001b[39;49m\u001b[43mappends\u001b[49m(v_1)\n\u001b[0;32m     35\u001b[0m v_rands\u001b[38;5;241m.\u001b[39mappend(v_rand)\n\u001b[0;32m     36\u001b[0m v_mins\u001b[38;5;241m.\u001b[39mappend(v_min)\n",
      "\u001b[1;31mAttributeError\u001b[0m: 'list' object has no attribute 'appends'"
     ]
    }
   ],
   "source": [
    "import random\n",
    "\n",
    "N_experiments = 100000\n",
    "N_coins = 1000\n",
    "n_flips = 10\n",
    "\n",
    "# will contain the minimum frequency of heads from 1000 flips for 100,000 trials\n",
    "v_mins = [] \n",
    "v_1s = []\n",
    "v_rands = []\n",
    "\n",
    "#iterates over 100,000 trials\n",
    "for k in range(N_experiments):\n",
    "    # keeps track of the heads_frequencies for each of the 1000 coin's 10 flips\n",
    "    heads_frequencies = []\n",
    "    \n",
    "    #iterates over 1000 coins\n",
    "    for i in range(N_coins):\n",
    "        #number of heads, heads = 1, tails = 0 \n",
    "        heads = 0\n",
    "        \n",
    "        #iterates over 10 flips of the coin, adds the value of the flip\n",
    "        for j in range(n_flips):\n",
    "            heads += random.randint(0, 1)\n",
    "        \n",
    "        #calculates fraction of flips that were heads\n",
    "        heads_freq = heads/n_flips\n",
    "        heads_frequencies.append(heads_freq)\n",
    "\n",
    "    v_1 = heads_frequencies[0]\n",
    "    v_rand = heads_frequencies[random.randint(0, N_coins - 1)]\n",
    "    v_min = min(heads_frequencies)\n",
    "    \n",
    "    v_1s.append(v_1)\n",
    "    v_rands.append(v_rand)\n",
    "    v_mins.append(v_min)\n",
    "    \n",
    "    if k % 1000 == 0:\n",
    "        print(k)\n",
    "\n",
    "v_min_avg = sum(v_mins)/N_experiments\n",
    "print('v_min expected value:', v_min_avg)\n"
   ]
  },
  {
   "cell_type": "code",
   "execution_count": null,
   "id": "59fd0a24",
   "metadata": {},
   "outputs": [],
   "source": []
  },
  {
   "cell_type": "code",
   "execution_count": null,
   "id": "9fc1ac85",
   "metadata": {},
   "outputs": [],
   "source": []
  }
 ],
 "metadata": {
  "kernelspec": {
   "display_name": "Python 3 (ipykernel)",
   "language": "python",
   "name": "python3"
  },
  "language_info": {
   "codemirror_mode": {
    "name": "ipython",
    "version": 3
   },
   "file_extension": ".py",
   "mimetype": "text/x-python",
   "name": "python",
   "nbconvert_exporter": "python",
   "pygments_lexer": "ipython3",
   "version": "3.9.12"
  }
 },
 "nbformat": 4,
 "nbformat_minor": 5
}
