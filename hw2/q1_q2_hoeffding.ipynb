{
 "cells": [
  {
   "cell_type": "code",
   "execution_count": 99,
   "id": "da5ee981",
   "metadata": {},
   "outputs": [
    {
     "name": "stdout",
     "output_type": "stream",
     "text": [
      "0\n",
      "1000\n",
      "2000\n",
      "3000\n",
      "4000\n",
      "5000\n",
      "6000\n",
      "7000\n",
      "8000\n",
      "9000\n",
      "10000\n",
      "11000\n",
      "12000\n",
      "13000\n",
      "14000\n",
      "15000\n",
      "16000\n",
      "17000\n",
      "18000\n",
      "19000\n",
      "20000\n",
      "21000\n",
      "22000\n",
      "23000\n",
      "24000\n",
      "25000\n",
      "26000\n",
      "27000\n",
      "28000\n",
      "29000\n",
      "30000\n",
      "31000\n",
      "32000\n",
      "33000\n",
      "34000\n",
      "35000\n",
      "36000\n",
      "37000\n",
      "38000\n",
      "39000\n",
      "40000\n",
      "41000\n",
      "42000\n",
      "43000\n",
      "44000\n",
      "45000\n",
      "46000\n",
      "47000\n",
      "48000\n",
      "49000\n",
      "50000\n",
      "51000\n",
      "52000\n",
      "53000\n",
      "54000\n",
      "55000\n",
      "56000\n",
      "57000\n",
      "58000\n",
      "59000\n",
      "60000\n",
      "61000\n",
      "62000\n",
      "63000\n",
      "64000\n",
      "65000\n",
      "66000\n",
      "67000\n",
      "68000\n",
      "69000\n",
      "70000\n",
      "71000\n",
      "72000\n",
      "73000\n",
      "74000\n",
      "75000\n",
      "76000\n",
      "77000\n",
      "78000\n",
      "79000\n",
      "80000\n",
      "81000\n",
      "82000\n",
      "83000\n",
      "84000\n",
      "85000\n",
      "86000\n",
      "87000\n",
      "88000\n",
      "89000\n",
      "90000\n",
      "91000\n",
      "92000\n",
      "93000\n",
      "94000\n",
      "95000\n",
      "96000\n",
      "97000\n",
      "98000\n",
      "99000\n",
      "v_min expected value: 0.03753299999997682\n"
     ]
    }
   ],
   "source": [
    "import random\n",
    "\n",
    "N_experiments = 100000\n",
    "N_coins = 1000\n",
    "n_flips = 10\n",
    "\n",
    "# will contain the minimum frequency of heads from 1000 flips for 100,000 trials\n",
    "v_mins = [] \n",
    "v_1s = []\n",
    "v_rands = []\n",
    "\n",
    "#iterates over 100,000 trials\n",
    "for k in range(N_experiments):\n",
    "    # keeps track of the heads_frequencies for each of the 1000 coin's 10 flips\n",
    "    heads_frequencies = []\n",
    "    \n",
    "    #iterates over 1000 coins\n",
    "    for i in range(N_coins):\n",
    "        #number of heads, heads = 1, tails = 0 \n",
    "        heads = 0\n",
    "        \n",
    "        #iterates over 10 flips of the coin, adds the value of the flip\n",
    "        for j in range(n_flips):\n",
    "            heads += random.randint(0, 1)\n",
    "        \n",
    "        #calculates fraction of flips that were heads and appends it to the list of frequencies for 1000 coins\n",
    "        heads_freq = heads/n_flips\n",
    "        heads_frequencies.append(heads_freq)\n",
    "    \n",
    "    # v1 is the frequency of getting heads for the first coin\n",
    "    v_1 = heads_frequencies[0]\n",
    "    \n",
    "    # v_rand is the frequency of getting heads for a random coin out of the 1000\n",
    "    v_rand = heads_frequencies[random.randint(0, N_coins - 1)]\n",
    "    \n",
    "    # v min is the minimum frequency of heads achieved by any coin\n",
    "    v_min = min(heads_frequencies)\n",
    "    \n",
    "    v_1s.append(v_1)\n",
    "    v_rands.append(v_rand)\n",
    "    v_mins.append(v_min)\n",
    "    \n",
    "    if k % 1000 == 0:\n",
    "        print(k)\n",
    "\n",
    "v_min_avg = sum(v_mins)/N_experiments\n",
    "print('v_min expected value:', v_min_avg)\n"
   ]
  },
  {
   "cell_type": "code",
   "execution_count": 102,
   "id": "28452296",
   "metadata": {},
   "outputs": [],
   "source": [
    "import numpy as np\n",
    "import matplotlib.pyplot as plt"
   ]
  },
  {
   "cell_type": "code",
   "execution_count": 103,
   "id": "7f5e18bf",
   "metadata": {},
   "outputs": [
    {
     "data": {
      "image/png": "[encoded data removed]",
      "text/plain": [
       "<Figure size 432x288 with 1 Axes>"
      ]
     },
     "metadata": {
      "needs_background": "light"
     },
     "output_type": "display_data"
    },
    {
     "data": {
      "image/png": "[encoded data removed]",
      "text/plain": [
       "<Figure size 432x288 with 1 Axes>"
      ]
     },
     "metadata": {
      "needs_background": "light"
     },
     "output_type": "display_data"
    },
    {
     "data": {
      "image/png": "[encoded data removed]",
      "text/plain": [
       "<Figure size 432x288 with 1 Axes>"
      ]
     },
     "metadata": {
      "needs_background": "light"
     },
     "output_type": "display_data"
    }
   ],
   "source": [
    "plt.hist(v_1s, bins=np.linspace(0, 10, 11)/10)\n",
    "plt.title(\"v1 distribution\")\n",
    "plt.show()\n",
    "\n",
    "plt.hist(v_rands, bins=np.linspace(0, 10, 11)/10)\n",
    "plt.title(\"vrand distribution\")\n",
    "plt.show()\n",
    "\n",
    "plt.hist(v_mins, bins=np.linspace(0, 10, 11)/10)\n",
    "plt.title(\"vmin distribution\")\n",
    "plt.show()"
   ]
  },
  {
   "cell_type": "code",
   "execution_count": 106,
   "id": "35b164ee",
   "metadata": {},
   "outputs": [
    {
     "name": "stdout",
     "output_type": "stream",
     "text": [
      "\n"
     ]
    },
    {
     "data": {
      "text/plain": [
       "0.49984300000000004"
      ]
     },
     "execution_count": 106,
     "metadata": {},
     "output_type": "execute_result"
    }
   ],
   "source": [
    "np.mean(v_1s)\n",
    "np.mean(v_rands)"
   ]
  }
 ],
 "metadata": {
  "kernelspec": {
   "display_name": "Python 3 (ipykernel)",
   "language": "python",
   "name": "python3"
  },
  "language_info": {
   "codemirror_mode": {
    "name": "ipython",
    "version": 3
   },
   "file_extension": ".py",
   "mimetype": "text/x-python",
   "name": "python",
   "nbconvert_exporter": "python",
   "pygments_lexer": "ipython3",
   "version": "3.9.12"
  }
 },
 "nbformat": 4,
 "nbformat_minor": 5
}
