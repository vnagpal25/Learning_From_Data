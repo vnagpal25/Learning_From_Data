{
 "cells": [
  {
   "cell_type": "markdown",
   "id": "d2d3008d",
   "metadata": {},
   "source": [
    "# Question 1, Answer D\n"
   ]
  },
  {
   "cell_type": "code",
   "execution_count": 70,
   "id": "6e610a8d",
   "metadata": {},
   "outputs": [],
   "source": [
    "import numpy as np\n",
    "\n",
    "#load data into a np array and return X vector and y values\n",
    "def load_data(file_name):\n",
    "    data = np.genfromtxt(file_name)\n",
    "    return data[:, :2], data[:, 2] # X in first two columns, y in last column\n",
    "\n",
    "#apply non linear transformation and return first k columns of the transformed Z matrix\n",
    "def non_lin_trans(X, k):\n",
    "    Z = np.array([(1, point[0], point[1], point[0] ** 2, point[1] ** 2, \n",
    "                   point[0] * point[1], np.absolute(point[0] - point[1]), np.absolute(point[0] + point[1])) for point in X])\n",
    "    Z = Z[:, 0:k+1]\n",
    "    return Z\n",
    "\n",
    "#use pseudo inverse one step learning method to compute w\n",
    "def run_linear_regression(Z, y):\n",
    "    ZtZ = np.dot(Z.T, Z)\n",
    "    pinv_Z = np.dot(np.linalg.inv(ZtZ), Z.T)\n",
    "    w = np.dot(pinv_Z, y) # w = pseudo_inv(X)*y \n",
    "    return w\n",
    "\n",
    "#compute classification error\n",
    "def compute_error(w, Z, y):\n",
    "    #for each 'point'/row z in Z, compute wTz and compare sign(wTz) with y\n",
    "     # will contain 0 or 1, for correct/incorrect classification\n",
    "    error_list = [(np.sign(w.T @ z) != y_point) for z, y_point in zip(Z, y)]\n",
    "    return np.sum(error_list)/len(error_list)"
   ]
  },
  {
   "cell_type": "code",
   "execution_count": 71,
   "id": "9421222f",
   "metadata": {},
   "outputs": [
    {
     "name": "stdout",
     "output_type": "stream",
     "text": [
      "list of k's:\t\t\t [3, 4, 5, 6, 7]\n",
      "list of validation errors's: [0.3, 0.5, 0.2, 0.0, 0.1]\n",
      "As we can from this, the minimum validation error occurs at k = 6. Therefore the correct answer choice is D\n"
     ]
    }
   ],
   "source": [
    "k_list = [3, 4, 5, 6, 7]\n",
    "E_val_list = []\n",
    "w_list = []\n",
    "for k in k_list:\n",
    "    # loading the input data\n",
    "    X_input, y_input = load_data('in.dta')\n",
    "\n",
    "    Z = non_lin_trans(X_input, k)\n",
    "\n",
    "    # splitting into 25 training points and 10 validation points\n",
    "    Z_train = Z[:25, :]\n",
    "    y_train = y_input[:25]\n",
    "    \n",
    "    w_lin = run_linear_regression(Z_train, y_train)\n",
    "    w_list.append(w_lin)\n",
    "    \n",
    "    Z_val = Z[-10:, :]\n",
    "    y_val = y_input[-10:]\n",
    "    \n",
    "    E_val = compute_error(w_lin, Z_val, y_val)\n",
    "    E_val_list.append(E_val)\n",
    "\n",
    "print(f'list of k\\'s:\\t\\t\\t {k_list}')\n",
    "print(f'list of validation errors\\'s: {E_val_list}')\n",
    "print('As we can from this, the minimum validation error occurs at k = 6. Therefore the correct answer choice is D')"
   ]
  },
  {
   "cell_type": "markdown",
   "id": "9b848d8a",
   "metadata": {},
   "source": [
    "# Question 2, Answer E"
   ]
  },
  {
   "cell_type": "code",
   "execution_count": 72,
   "id": "65c47605",
   "metadata": {},
   "outputs": [
    {
     "name": "stdout",
     "output_type": "stream",
     "text": [
      "list of k's:\t\t\t [3, 4, 5, 6, 7]\n",
      "list of out of sample errors: [0.42, 0.416, 0.188, 0.084, 0.072]\n",
      "As we can see, the lowest out of sample error occurs at k = 7. The correct answer choice is E\n"
     ]
    }
   ],
   "source": [
    "E_out_list = []\n",
    "for i, k in enumerate(k_list):\n",
    "    X_test, y_test = load_data('out.dta')\n",
    "    \n",
    "    Z_test = non_lin_trans(X_test, k)\n",
    "    \n",
    "    E_out = compute_error(w_list[i], Z_test, y_test)\n",
    "    E_out_list.append(E_out)\n",
    "print(f'list of k\\'s:\\t\\t\\t {k_list}')\n",
    "print(f'list of out of sample errors: {E_out_list}')\n",
    "print('As we can see, the lowest out of sample error occurs at k = 7. The correct answer choice is E')"
   ]
  },
  {
   "cell_type": "markdown",
   "id": "4c072e23",
   "metadata": {},
   "source": [
    "# Question 3, Answer D"
   ]
  },
  {
   "cell_type": "code",
   "execution_count": 73,
   "id": "c6d1b45e",
   "metadata": {
    "scrolled": true
   },
   "outputs": [
    {
     "name": "stdout",
     "output_type": "stream",
     "text": [
      "list of k's:\t\t\t [3, 4, 5, 6, 7]\n",
      "list of validation errors's: [0.28, 0.36, 0.2, 0.08, 0.12]\n",
      "As we can from this, the minimum validation error occurs at k = 6. Therefore the correct answer choice is D\n"
     ]
    }
   ],
   "source": [
    "k_list = [3, 4, 5, 6, 7]\n",
    "E_val_list = []\n",
    "w_list = []\n",
    "for k in k_list:\n",
    "    # loading the input data\n",
    "    X_input, y_input = load_data('in.dta')\n",
    "\n",
    "    Z = non_lin_trans(X_input, k)\n",
    "\n",
    "    # splitting into 25 training points and 10 validation points\n",
    "    Z_train = Z[-10:, :]\n",
    "    y_train = y_input[-10:]\n",
    "    \n",
    "    w_lin = run_linear_regression(Z_train, y_train)\n",
    "    w_list.append(w_lin)\n",
    "    \n",
    "    Z_val = Z[:25, :]\n",
    "    y_val = y_input[:25]\n",
    "    \n",
    "    E_val = compute_error(w_lin, Z_val, y_val)\n",
    "    E_val_list.append(E_val)\n",
    "\n",
    "print(f'list of k\\'s:\\t\\t\\t {k_list}')\n",
    "print(f'list of validation errors\\'s: {E_val_list}')\n",
    "print('As we can from this, the minimum validation error occurs at k = 6. Therefore the correct answer choice is D')"
   ]
  },
  {
   "cell_type": "markdown",
   "id": "b4883b15",
   "metadata": {},
   "source": [
    "# Question 4, Answer D"
   ]
  },
  {
   "cell_type": "code",
   "execution_count": null,
   "id": "d73cf135",
   "metadata": {},
   "outputs": [],
   "source": [
    "E_out_list = []\n",
    "for i, k in enumerate(k_list):\n",
    "    X_test, y_test = load_data('out.dta')\n",
    "    \n",
    "    Z_test = non_lin_trans(X_test, k)\n",
    "    \n",
    "    E_out = compute_error(w_list[i], Z_test, y_test)\n",
    "    E_out_list.append(E_out)\n",
    "print(f'list of k\\'s:\\t\\t\\t {k_list}')\n",
    "print(f'list of out of sample errors: {E_out_list}')\n",
    "print('As we can see, the lowest out of sample error occurs at k = 6. The correct answer choice is D')\n",
    "print('The past 4 problems illustrate the notion that a higher number of samples in the validation set leads to a better estimate of out of sample error. However, overall performance goes down because the training set has now been reduced')"
   ]
  },
  {
   "cell_type": "markdown",
   "id": "568cced1",
   "metadata": {},
   "source": [
    "# Question 5, Answer"
   ]
  },
  {
   "cell_type": "code",
   "execution_count": 76,
   "id": "fb40e261",
   "metadata": {},
   "outputs": [
    {
     "name": "stdout",
     "output_type": "stream",
     "text": [
      "0.1, 0.2\n"
     ]
    }
   ],
   "source": [
    "E_out_1 = 0.084 # out of sample error of model selected from first val method\n",
    "\n",
    "E_out_2 = 0.192 # out of sample error of model selected from second val method\n",
    "\n",
    "print(\"{:.1f}, {:.1f}\".format(E_out_1 - E_val_1, E_out_2 - E_val_2))\n"
   ]
  },
  {
   "cell_type": "markdown",
   "id": "814b51a8",
   "metadata": {},
   "source": [
    "# Question 6, Answer D\n",
    "##### $e_1, e_2$ are random variables from a uniform distribution from 0 to 1 that looks like this:"
   ]
  },
  {
   "cell_type": "code",
   "execution_count": 4,
   "id": "0dd6fed7",
   "metadata": {},
   "outputs": [
    {
     "data": {
      "text/plain": [
       "Text(0, 0.5, 'P(x)')"
      ]
     },
     "execution_count": 4,
     "metadata": {},
     "output_type": "execute_result"
    },
    {
     "data": {
      "image/png": "[encoded data removed]",
      "text/plain": [
       "<Figure size 432x288 with 1 Axes>"
      ]
     },
     "metadata": {
      "needs_background": "light"
     },
     "output_type": "display_data"
    }
   ],
   "source": [
    "import numpy as np\n",
    "from matplotlib import pyplot as plt\n",
    "\n",
    "x_axis = np.linspace(0, 1, 100)\n",
    "y_axis = np.ones(100)\n",
    "\n",
    "plt.plot(x_axis, y_axis)\n",
    "plt.title('PDF of e_i')\n",
    "plt.xlabel('X')\n",
    "plt.ylabel('P(x)')"
   ]
  },
  {
   "cell_type": "markdown",
   "id": "f61d72b2",
   "metadata": {},
   "source": [
    "##### As we can see from the distribution, the mean is x = 0.5\n",
    "##### Therefore, the expected value of $e_1, e_2$ are both 0.5\n",
    "##### $E[e_1] = E[e_2] = 0.5$\n",
    "##### Let us now derive the expected value for the minimum of $e_1, e_2$ denoted as $e = min(e_1, e_2)$\n",
    "\n",
    "\n",
    "##### Let us consider the cdf of $min(e_1, e_2)$ The cdf conceptually refers to the probability of the random variable X referring to the minimum e being less than a given value x.\n",
    "##### So the cdf can be written as $F_X(x) = P(X \\leq x)$\n",
    "##### The probability of X being smaller than x is the same as the complement of the probability of X being strictly larger than x\n",
    "##### $P(X \\leq x) = 1 - P(X > x)$\n",
    "##### If X, the minimum of $e_1, e_2$ is larger than x, this is equivalent to saying that both $e_1, e_2$ are larger than x.\n",
    "##### $1 - P(X > x) = 1 - P(e_1 > x, e_2 > x)$\n",
    "##### Since, $e_1, e_2$ are generated independently:\n",
    "##### $1 - P(e_1 > x, e_2 > x) = 1 - [P(e_1 > x) * P(e_2 > x)]$\n",
    "##### This can be rewritten as:\n",
    "##### $1 - [P(e_1 > x) * P(e_2 > x)] = 1 - (1 - P(e_1 \\leq x))(1 - P(e_2 \\leq x))$\n",
    "##### Now, we must find the value of $P(e_i \\leq x)$. Indeed, this is the cdf of the original distribution. Simple intuition or integration can show you that the area under the curve at any given point of the pdf, aka the cdf, can be expressed as $P(e_i \\leq x) = x$\n",
    "##### So, we can write $F_X(x) = P(X \\leq x) = 1 - (1 - P(e_1 \\leq x))(1 - P(e_2 \\leq x)) = 1 - (1-x)(1-x) = 1 - 1 + 2x -x^2 = 2x - x^2$\n",
    "\n",
    "##### We have now expressed the cdf of the minimum of two random variables as $P(e \\leq x) = 2x - x^2$\n",
    "##### Differentiating with respect to the variable x gives us the pdf:\n",
    "##### $f(x) = 2 - 2x$\n",
    "\n",
    "##### In statistics, the expected value of a random variable is given by an integral. In this case it will be:\n",
    "$E[e] = \\int_{0}^{1} x(2 - 2x)dx = \\int_{0}^{1} 2x - 2x^2dx = [x^2 - \\frac{2x^3}{3}]_{0}^{1} = 1 - \\frac{2}{3} = \\frac{1}{3} = 0.333....$\n",
    "##### So we have $E[e_1] = E[e_2] = 0.5, E[e] = 0.3$\n",
    "##### This is closest to the answer choice D. "
   ]
  },
  {
   "cell_type": "markdown",
   "id": "6feffa8e",
   "metadata": {},
   "source": [
    "# Question 7, Answer D\n",
    "##### Cross Validation Error is defined as:\n",
    "##### $E_{cv} = \\frac{1}{N}\\sum\\limits_{n=1}^{N}e_n$, in our case we are using squared error measure $e_n = e(g_n^-(x_n), y_n)= (h(x_n) - y_n)^2$ \n",
    "\n",
    "##### For the constant model, we compute three different validation errors. Let us consider the case when we are using the points on the x_axis: $(-1, 0), (1, 0)$ to estimate the points. We get $h(x) = 0$. Getting the validation error on the third point $(\\rho, 1): e_n = (0 - 1)^2 = 1$\n",
    "\n",
    "##### Repeating the process we get $h(x) = \\frac{1}{2}$ for $(-1, 0), (\\rho, 1)$. We get validation error on point $(1, 0)$ as $e_n = (\\frac{1}{2} - 0)^2$\n",
    "\n",
    "##### We similarly get $e_n = (\\frac{1}{2} - 0)^2$ for point $(-1, 0)$\n",
    "\n",
    "##### Cross-validation error: $E_{cv} = \\frac{1 + 0.5^2 + 0.5^2}{3} = 0.5$ (1)\n",
    "\n",
    "\n",
    "##### For the linear model, we first get $h(x) = 0$ again for $(-1, 0), (1, 0)$. This gives us $e_n = 1$\n",
    "\n",
    "##### On points $(\\rho, 1), (-1, 0)$, we get $h(x) = \\frac{x+1}{\\rho + 1}$. This yeilds a validation error $e_n = (\\frac{2}{\\rho + 1})^2$ for point $(1, 0)$\n",
    "\n",
    "##### On points $(\\rho, 1), (1, 0)$, we get $h(x) = \\frac{x-1}{\\rho - 1}$. This yeilds a validation error $e_n = (\\frac{2}{\\rho - 1})^2$ for point $(-1, 0)$\n",
    "\n",
    "##### Cross-validation error: $E_{cv} = \\frac{1 + (\\frac{2}{\\rho - 1})^2 + (\\frac{2}{\\rho + 1})^2}{3}$ (2)\n",
    "\n",
    "##### Equating (1) and (2) and simplifying, we arrive at $\\rho^4 -18\\rho^2 - 15 =0$\n",
    "##### The solution is in the following cell:"
   ]
  },
  {
   "cell_type": "code",
   "execution_count": 32,
   "id": "50fd1ed7",
   "metadata": {},
   "outputs": [
    {
     "name": "stdout",
     "output_type": "stream",
     "text": [
      "The only possible solution that satisfies rho being positive and real is sqrt(9 + 4*sqrt(6))\n",
      "Therefore, the correct answer choice is D\n"
     ]
    }
   ],
   "source": [
    "from sympy.solvers import solve\n",
    "from sympy import Symbol\n",
    "\n",
    "p = Symbol('p')\n",
    "sol = solve(p**4 - 18*p**2 - 15, p)\n",
    "print(f'The only possible solution that satisfies rho being positive and real is {(sol[3])}')\n",
    "print('Therefore, the correct answer choice is D')"
   ]
  },
  {
   "cell_type": "code",
   "execution_count": 33,
   "id": "c073f1bf",
   "metadata": {
    "scrolled": true
   },
   "outputs": [
    {
     "data": {
      "text/plain": [
       "[<matplotlib.lines.Line2D at 0x2ade982b670>]"
      ]
     },
     "execution_count": 33,
     "metadata": {},
     "output_type": "execute_result"
    },
    {
     "data": {
      "image/png": "[encoded data removed]",
      "text/plain": [
       "<Figure size 432x288 with 1 Axes>"
      ]
     },
     "metadata": {
      "needs_background": "light"
     },
     "output_type": "display_data"
    },
    {
     "data": {
      "image/png": "[encoded data removed]",
      "text/plain": [
       "<Figure size 432x288 with 1 Axes>"
      ]
     },
     "metadata": {
      "needs_background": "light"
     },
     "output_type": "display_data"
    }
   ],
   "source": [
    "import numpy as np\n",
    "from matplotlib import pyplot as plt\n",
    "\n",
    "\n",
    "x = [-1, 1, 5] # let rho be 5 for visualization\n",
    "y = [0, 0, 1]\n",
    "plt.figure(0)\n",
    "plt.title('Constant model h(x) = b')\n",
    "plt.plot(x, y, 'bo')\n",
    "plt.plot(np.linspace(-5, 5, 100), np.zeros(100), 'r')\n",
    "plt.plot(np.linspace(-5, 5, 100), 0.5 * np.ones(100), 'g')\n",
    "\n",
    "plt.figure(1)\n",
    "plt.title('Linear model h(x) = ax + b')\n",
    "plt.plot(x, y, 'bo')\n",
    "plt.plot(np.linspace(-5, 5, 100), np.zeros(100), 'r')\n",
    "plt.plot(np.linspace(-5, 5, 100), 1/(5 - 1) * (np.linspace(-5, 5, 100) - 1), 'g')\n",
    "plt.plot(np.linspace(-5, 5, 100), 1/(5 + 1) * (np.linspace(-5, 5, 100) + 1), 'g')\n",
    "\n"
   ]
  },
  {
   "cell_type": "markdown",
   "id": "4b44bd22",
   "metadata": {},
   "source": [
    "# Question 8, Answer\n"
   ]
  },
  {
   "cell_type": "code",
   "execution_count": 156,
   "id": "fd8942b8",
   "metadata": {
    "scrolled": true
   },
   "outputs": [],
   "source": [
    "import numpy as np\n",
    "import random\n",
    "import sympy as sy\n",
    "from matplotlib import pyplot as plt\n",
    "\n",
    "#generates a random target function in R2\n",
    "def generate_target_function():\n",
    "    # generate two random points\n",
    "    p1 = np.random.uniform(-1, 1, size=2)\n",
    "    p2 = np.random.uniform(-1, 1, size=2)\n",
    "    \n",
    "    # Using points to get the parameters m and c for y = mx + c\n",
    "    m = (p1[1] -p2[1])/(p1[0] - p2[0]) # m = (y1 - y2)/ (x1 -x2)\n",
    "    c = p1[1] - m*p1[0] # c = y - mx   \n",
    "    \n",
    "    w_target = np.array([c, m, -1])\n",
    "    \n",
    "    return w_target\n",
    "\n",
    "#generates data set of N points\n",
    "def generate_data(N, w_target):\n",
    "    x_n = np.random.uniform(-1, 1, size=(N, 2))\n",
    "    x_n = getInputX(x_n, N)\n",
    "    \n",
    "    y = np.sign(np.dot(x_n, w_target)) # ground truth classification\n",
    "    while np.array_equal(y, np.ones((1, N))) or np.array_equal(y, -1 * np.ones((1, N))):\n",
    "        x_n = np.random.uniform(-1, 1, size=(N, 2))\n",
    "        x_n = getInputX(x_n, N)\n",
    "        y = np.sign(np.dot(x_n, w_target)) # ground truth classification\n",
    "    \n",
    "    return x_n, y\n",
    "\n",
    "def getInputX(x_vals, N):\n",
    "    X = x_vals\n",
    "    X = np.concatenate((np.ones((N, 1)), X), axis = 1) # concatenate ones to account for bias term\n",
    "    return X\n",
    "\n",
    "# checks if perceptron learning algorithm has converged\n",
    "def converged_PLA(x_n, y, w):\n",
    "    for index, point in enumerate(x_n):\n",
    "        if np.sign(np.dot(w, point)) != y[index]:\n",
    "            return False\n",
    "    return True\n",
    "\n",
    "# perceptron learning algorithm\n",
    "def runPLA(x_n, y):\n",
    "    w = np.zeros(3)\n",
    "    \n",
    "    # run until all points are classified correctly\n",
    "    while not converged_PLA(x_n, y, w):\n",
    "        \n",
    "        # see which points are classified correctly or incorrectly\n",
    "        correctNs = []\n",
    "        wrongNs = []\n",
    "        for n, point in enumerate(x_n):\n",
    "            if np.sign(np.dot(w, point)) == y[n]:\n",
    "                correctNs.append(n)\n",
    "            else:\n",
    "                wrongNs.append(n)\n",
    "        \n",
    "        # we must update our weights for a random misclassified point\n",
    "        updateN = random.choice(wrongNs)\n",
    "        \n",
    "        w = w + y[updateN] * x_n[updateN]\n",
    "    return w\n",
    "\n",
    "# binary classification error\n",
    "def compute_error(x_n_test, y_test, w):\n",
    "    y_predicted = np.sign(x_n_test @ w)\n",
    "    error = sum(y_predicted != y_test)/len(y_test)\n",
    "    return error"
   ]
  },
  {
   "cell_type": "code",
   "execution_count": null,
   "id": "06fa724a",
   "metadata": {},
   "outputs": [],
   "source": [
    "N_points = 10\n",
    "N_test_points = 100\n",
    "N_experiments = 100\n",
    "E_out_pla_list = []\n",
    "\n",
    "for i in range(N_experiments):\n",
    "    #generate target\n",
    "    w_target = generate_target_function()\n",
    "    \n",
    "    #generate training data\n",
    "    x_n, y = generate_data(N_points, w_target)\n",
    "        \n",
    "    # run perceptron learning algorithm on training set(PLA)\n",
    "    w_PLA = runPLA(x_n, y)\n",
    "    \n",
    "    # approximating error with points is much easier than formulating integral for error calculation\n",
    "    x_n_test, y_test = generate_data(N_test_points, w_target)\n",
    "    \n",
    "    e_out = compute_error(x_n_test, y_test, w_PLA)\n",
    "    E_out_pla_list.append(e_out)\n",
    "    \n",
    "    "
   ]
  }
 ],
 "metadata": {
  "kernelspec": {
   "display_name": "Python 3 (ipykernel)",
   "language": "python",
   "name": "python3"
  },
  "language_info": {
   "codemirror_mode": {
    "name": "ipython",
    "version": 3
   },
   "file_extension": ".py",
   "mimetype": "text/x-python",
   "name": "python",
   "nbconvert_exporter": "python",
   "pygments_lexer": "ipython3",
   "version": "3.9.12"
  }
 },
 "nbformat": 4,
 "nbformat_minor": 5
}
