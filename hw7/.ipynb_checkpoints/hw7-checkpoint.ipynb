{
 "cells": [
  {
   "cell_type": "markdown",
   "id": "d2d3008d",
   "metadata": {},
   "source": [
    "# Question 1, Answer D\n"
   ]
  },
  {
   "cell_type": "code",
   "execution_count": 70,
   "id": "6e610a8d",
   "metadata": {},
   "outputs": [],
   "source": [
    "import numpy as np\n",
    "\n",
    "#load data into a np array and return X vector and y values\n",
    "def load_data(file_name):\n",
    "    data = np.genfromtxt(file_name)\n",
    "    return data[:, :2], data[:, 2] # X in first two columns, y in last column\n",
    "\n",
    "#apply non linear transformation and return first k columns of the transformed Z matrix\n",
    "def non_lin_trans(X, k):\n",
    "    Z = np.array([(1, point[0], point[1], point[0] ** 2, point[1] ** 2, \n",
    "                   point[0] * point[1], np.absolute(point[0] - point[1]), np.absolute(point[0] + point[1])) for point in X])\n",
    "    Z = Z[:, 0:k+1]\n",
    "    return Z\n",
    "\n",
    "#use pseudo inverse one step learning method to compute w\n",
    "def run_linear_regression(Z, y):\n",
    "    ZtZ = np.dot(Z.T, Z)\n",
    "    pinv_Z = np.dot(np.linalg.inv(ZtZ), Z.T)\n",
    "    w = np.dot(pinv_Z, y) # w = pseudo_inv(X)*y \n",
    "    return w\n",
    "\n",
    "#compute classification error\n",
    "def compute_error(w, Z, y):\n",
    "    #for each 'point'/row z in Z, compute wTz and compare sign(wTz) with y\n",
    "     # will contain 0 or 1, for correct/incorrect classification\n",
    "    error_list = [(np.sign(w.T @ z) != y_point) for z, y_point in zip(Z, y)]\n",
    "    return np.sum(error_list)/len(error_list)"
   ]
  },
  {
   "cell_type": "code",
   "execution_count": 71,
   "id": "9421222f",
   "metadata": {},
   "outputs": [
    {
     "name": "stdout",
     "output_type": "stream",
     "text": [
      "list of k's:\t\t\t [3, 4, 5, 6, 7]\n",
      "list of validation errors's: [0.3, 0.5, 0.2, 0.0, 0.1]\n",
      "As we can from this, the minimum validation error occurs at k = 6. Therefore the correct answer choice is D\n"
     ]
    }
   ],
   "source": [
    "k_list = [3, 4, 5, 6, 7]\n",
    "E_val_list = []\n",
    "w_list = []\n",
    "for k in k_list:\n",
    "    # loading the input data\n",
    "    X_input, y_input = load_data('in.dta')\n",
    "\n",
    "    Z = non_lin_trans(X_input, k)\n",
    "\n",
    "    # splitting into 25 training points and 10 validation points\n",
    "    Z_train = Z[:25, :]\n",
    "    y_train = y_input[:25]\n",
    "    \n",
    "    w_lin = run_linear_regression(Z_train, y_train)\n",
    "    w_list.append(w_lin)\n",
    "    \n",
    "    Z_val = Z[-10:, :]\n",
    "    y_val = y_input[-10:]\n",
    "    \n",
    "    E_val = compute_error(w_lin, Z_val, y_val)\n",
    "    E_val_list.append(E_val)\n",
    "\n",
    "print(f'list of k\\'s:\\t\\t\\t {k_list}')\n",
    "print(f'list of validation errors\\'s: {E_val_list}')\n",
    "print('As we can from this, the minimum validation error occurs at k = 6. Therefore the correct answer choice is D')"
   ]
  },
  {
   "cell_type": "markdown",
   "id": "9b848d8a",
   "metadata": {},
   "source": [
    "# Question 2, Answer E"
   ]
  },
  {
   "cell_type": "code",
   "execution_count": 72,
   "id": "65c47605",
   "metadata": {},
   "outputs": [
    {
     "name": "stdout",
     "output_type": "stream",
     "text": [
      "list of k's:\t\t\t [3, 4, 5, 6, 7]\n",
      "list of out of sample errors: [0.42, 0.416, 0.188, 0.084, 0.072]\n",
      "As we can see, the lowest out of sample error occurs at k = 7. The correct answer choice is E\n"
     ]
    }
   ],
   "source": [
    "E_out_list = []\n",
    "for i, k in enumerate(k_list):\n",
    "    X_test, y_test = load_data('out.dta')\n",
    "    \n",
    "    Z_test = non_lin_trans(X_test, k)\n",
    "    \n",
    "    E_out = compute_error(w_list[i], Z_test, y_test)\n",
    "    E_out_list.append(E_out)\n",
    "print(f'list of k\\'s:\\t\\t\\t {k_list}')\n",
    "print(f'list of out of sample errors: {E_out_list}')\n",
    "print('As we can see, the lowest out of sample error occurs at k = 7. The correct answer choice is E')"
   ]
  },
  {
   "cell_type": "markdown",
   "id": "4c072e23",
   "metadata": {},
   "source": [
    "# Question 3, Answer D"
   ]
  },
  {
   "cell_type": "code",
   "execution_count": 73,
   "id": "c6d1b45e",
   "metadata": {
    "scrolled": true
   },
   "outputs": [
    {
     "name": "stdout",
     "output_type": "stream",
     "text": [
      "list of k's:\t\t\t [3, 4, 5, 6, 7]\n",
      "list of validation errors's: [0.28, 0.36, 0.2, 0.08, 0.12]\n",
      "As we can from this, the minimum validation error occurs at k = 6. Therefore the correct answer choice is D\n"
     ]
    }
   ],
   "source": [
    "k_list = [3, 4, 5, 6, 7]\n",
    "E_val_list = []\n",
    "w_list = []\n",
    "for k in k_list:\n",
    "    # loading the input data\n",
    "    X_input, y_input = load_data('in.dta')\n",
    "\n",
    "    Z = non_lin_trans(X_input, k)\n",
    "\n",
    "    # splitting into 25 training points and 10 validation points\n",
    "    Z_train = Z[-10:, :]\n",
    "    y_train = y_input[-10:]\n",
    "    \n",
    "    w_lin = run_linear_regression(Z_train, y_train)\n",
    "    w_list.append(w_lin)\n",
    "    \n",
    "    Z_val = Z[:25, :]\n",
    "    y_val = y_input[:25]\n",
    "    \n",
    "    E_val = compute_error(w_lin, Z_val, y_val)\n",
    "    E_val_list.append(E_val)\n",
    "\n",
    "print(f'list of k\\'s:\\t\\t\\t {k_list}')\n",
    "print(f'list of validation errors\\'s: {E_val_list}')\n",
    "print('As we can from this, the minimum validation error occurs at k = 6. Therefore the correct answer choice is D')"
   ]
  },
  {
   "cell_type": "markdown",
   "id": "b4883b15",
   "metadata": {},
   "source": [
    "# Question 4, Answer D"
   ]
  },
  {
   "cell_type": "code",
   "execution_count": 74,
   "id": "26680923",
   "metadata": {},
   "outputs": [
    {
     "name": "stdout",
     "output_type": "stream",
     "text": [
      "list of k's:\t\t\t [3, 4, 5, 6, 7]\n",
      "list of out of sample errors: [0.396, 0.388, 0.284, 0.192, 0.196]\n",
      "As we can see, the lowest out of sample error occurs at k = 6. The correct answer choice is D\n",
      "The past 4 problems illustrate the notion that a higher number of samples in the validation set leads to a better estimate of out of sample error. However, overall performance goes down because the training set has now been reduced\n"
     ]
    }
   ],
   "source": [
    "E_out_list = []\n",
    "for i, k in enumerate(k_list):\n",
    "    X_test, y_test = load_data('out.dta')\n",
    "    \n",
    "    Z_test = non_lin_trans(X_test, k)\n",
    "    \n",
    "    E_out = compute_error(w_list[i], Z_test, y_test)\n",
    "    E_out_list.append(E_out)\n",
    "print(f'list of k\\'s:\\t\\t\\t {k_list}')\n",
    "print(f'list of out of sample errors: {E_out_list}')\n",
    "print('As we can see, the lowest out of sample error occurs at k = 6. The correct answer choice is D')\n",
    "print('The past 4 problems illustrate the notion that a higher number of samples in the validation set leads to a better estimate of out of sample error. However, overall performance goes down because the training set has now been reduced')"
   ]
  },
  {
   "cell_type": "markdown",
   "id": "568cced1",
   "metadata": {},
   "source": [
    "# Question 5, Answer"
   ]
  },
  {
   "cell_type": "code",
   "execution_count": 76,
   "id": "fb40e261",
   "metadata": {},
   "outputs": [
    {
     "name": "stdout",
     "output_type": "stream",
     "text": [
      "0.1, 0.2\n"
     ]
    }
   ],
   "source": [
    "E_out_1 = 0.084 # out of sample error of model selected from first val method\n",
    "\n",
    "E_out_2 = 0.192 # out of sample error of model selected from second val method\n",
    "\n",
    "print(\"{:.1f}, {:.1f}\".format(E_out_1 - E_val_1, E_out_2 - E_val_2))\n"
   ]
  }
 ],
 "metadata": {
  "kernelspec": {
   "display_name": "Python 3 (ipykernel)",
   "language": "python",
   "name": "python3"
  },
  "language_info": {
   "codemirror_mode": {
    "name": "ipython",
    "version": 3
   },
   "file_extension": ".py",
   "mimetype": "text/x-python",
   "name": "python",
   "nbconvert_exporter": "python",
   "pygments_lexer": "ipython3",
   "version": "3.9.12"
  }
 },
 "nbformat": 4,
 "nbformat_minor": 5
}
