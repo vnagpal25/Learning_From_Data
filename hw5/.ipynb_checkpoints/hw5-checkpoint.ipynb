{
 "cells": [
  {
   "cell_type": "markdown",
   "id": "07e13699-8134-4264-946a-20f45a7f835c",
   "metadata": {},
   "source": [
    "# Question 1, Answer C\n",
    "##### We can approach this problem by solving the provided equation for $N$ in terms of $\\sigma$, $d$, and $E_D[E_{in}(w_{lin})]$\n",
    "##### By simple algebra, we can arrive at \n",
    "$$ N = \\frac{\\sigma ^2 (d+1)}{\\sigma ^2 - E_D[E_{in}(w_{lin})]}$$"
   ]
  },
  {
   "cell_type": "code",
   "execution_count": 5,
   "id": "b7171961-0b57-413a-bb33-d028cfb64b30",
   "metadata": {},
   "outputs": [
    {
     "name": "stdout",
     "output_type": "stream",
     "text": [
      "A minimum of 45 samples needed to achieve an expected in sample error of 0.008\n",
      "As we can see, out of the answer choice, the smallest number of samples to guarantee an in sample error of at least 0.008 has to be greater than 45. Therefore, the correct answer is C, 100 samples.\n"
     ]
    }
   ],
   "source": [
    "import math\n",
    "\n",
    "sigma = 0.1\n",
    "d = 8\n",
    "E_in_exp = 0.008\n",
    "\n",
    "N_min = ((sigma ** 2) * (d + 1)) / ( (sigma ** 2) - E_in_exp)\n",
    "print(f'A minimum of {math.ceil(N_min)} samples needed to achieve an expected in sample error of {E_in_exp}')\n",
    "print(f'As we can see, out of the answer choice, the smallest number of samples to guarantee an in sample error of at least {E_in_exp} has to be greater than {math.ceil(N_min)}. Therefore, the correct answer is C, 100 samples.')"
   ]
  },
  {
   "cell_type": "markdown",
   "id": "aa0bde3a-7aaf-4a72-bd7b-6334737816ec",
   "metadata": {},
   "source": [
    "# Question 2, Answer D"
   ]
  },
  {
   "cell_type": "code",
   "execution_count": null,
   "id": "b84412ed-5697-4368-b1cc-9080d9049409",
   "metadata": {},
   "outputs": [],
   "source": []
  }
 ],
 "metadata": {
  "kernelspec": {
   "display_name": "Python 3 (ipykernel)",
   "language": "python",
   "name": "python3"
  },
  "language_info": {
   "codemirror_mode": {
    "name": "ipython",
    "version": 3
   },
   "file_extension": ".py",
   "mimetype": "text/x-python",
   "name": "python",
   "nbconvert_exporter": "python",
   "pygments_lexer": "ipython3",
   "version": "3.11.4"
  }
 },
 "nbformat": 4,
 "nbformat_minor": 5
}
