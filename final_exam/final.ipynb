{
 "cells": [
  {
   "cell_type": "markdown",
   "id": "2de3e653",
   "metadata": {},
   "source": [
    "# Question 1, Answer E\n",
    "## A non linear polynomial transformation $\\phi$ of order $n$ applied to a an input space $X$ with dimension $d=2$ looks like the following\n",
    "## $x = (1, x_1, x_2)$\n",
    "## $\\phi(x) = (1, x_1, x_2, x_1^2, x_1x_2,x_2^2, ..., x_1^n, x_1^{n-1}x_2, ..., x_1x_2^{n-1}, x_2^n)$\n",
    "## To find the dimension of the image of $x$ under the non-linear transformatin, it suffices to count the elements in the d-tuple, excluding the first element 1\n",
    "## First of all, it is necessary to note that for any non-negative integer $m$, there are exactly $m + 1$ possible terms of order $m$ given two variables $x_1, x_2$.\n",
    "## To see this, let us enumerate all terms:\n",
    "## $x_1^mx_2^0, x_1^{m-1}x_2^1, ..., x_1^1x_2^{m-1}, x_1^0x_2^m$\n",
    "## In the above sequence of $n$-order terms, there are $m+1$ powers of $x_2$(or $x_1$), ranging from $0$ to $m$.\n",
    "## For a transform of order $n$, we must count all possible terms with powers ranging from $1$ to $n$(remember we are excluding power $0$, which is the first term in the transform)\n",
    "## This can thus be represented as a succinct sum as the following\n",
    "## $d = \\sum_{m=1}^n{m+1}$\n",
    "## This sum can be computed as: $d(n) = \\sum_{m=1}^n{(m+1)} = \\sum_{m=1}^n{m} + \\sum_{m=1}^n{1} = \\sum_{m=1}^n{m} + n = \\frac{n(n+1)}{2} + n = \\frac{n(n+3)}{2}$\n",
    "## Therefore, for a polynomial transform of order $10$, we can compute the dimension of the image of a $2$-dimensional input as $d(10) = \\frac{10(13)}{2} = 65$ \n",
    "## Hence, the correct answer is none of the above, E."
   ]
  },
  {
   "cell_type": "markdown",
   "id": "50e0ed85",
   "metadata": {},
   "source": [
    "# Question 2, Answer D\n",
    "## The expected value of a set $\\{g^{(D)}\\}$ is an average of all of the hypotheses. To illustrate that this average is not contained within $H$, let us consider two hypotheses $h_1, h_2 \\epsilon H$.\n",
    "\n",
    "## Using logistic regression, $h_1, h_2$ are of the form:\n",
    "## $h_1 = \\theta_1(x) = \\frac{1}{1 + e^{-w_1^Tx}}, h_2 = \\theta_2(x) = \\frac{1}{1 + e^{-w_2^Tx}}$\n",
    "## Their average can be written, in short after some algebraic manipulation, as follows:\n",
    "## $\\frac{h_1 + h_2}{2} = \\frac{2 + e^{-w_1^Tx} + e^{-w_2^Tx}}{2(1 + e^{-w_1^Tx} + e^{-w_2^Tx} + e^{-(w_1 + w_2)^Tx})}$\n",
    "## This hypothesis is not of the form of either h_1 and h_2\n",
    "## Therefore, answer D is the correct answer"
   ]
  },
  {
   "cell_type": "markdown",
   "id": "43ba4df5",
   "metadata": {},
   "source": [
    "# Question 3, Answer D\n",
    "## Choice D: We can always determine if there is overfitting by comparing the values of $(E_{out} - E_{in})$\n",
    "## There might be two hypotheses, $h_1$ with $E_{in} = 0.2, E_{out} = 0.6, E_{out}-E_{in} = 0.4$ and $h_2$ with $E_{in} = 0.5, E_{out} = 0.7, E_{out}-E_{in} = 0.2$\n",
    "## Even though $h_1$ has a higher value for $E_{out}-E_{in}$, it might initially be a candidate for overfitting, upon closer inspection, we know this to be false. It actually has a lower E_out than $h_2$ and therefore is not overfitting.\n",
    "\n",
    "## Therefore, the correct answer choice is D"
   ]
  },
  {
   "cell_type": "markdown",
   "id": "aea2e077",
   "metadata": {},
   "source": [
    "# Question 4, Answer D\n",
    "## Stochastic noise depends on the output distribution of the target function, and not on the ability of the hypothesis set to approximate the function, which constitutes deterministic noise\n",
    "## Therefore, the correct answer chocie is D"
   ]
  },
  {
   "cell_type": "markdown",
   "id": "d4e8d610",
   "metadata": {},
   "source": [
    "# Question 5, Answer A\n",
    "## If the solution from linear regression satisfies the regularization constraint, then regularization imposes no constraint on the solution.\n",
    "## The same solution as unconstrained linear regression is returned\n",
    "## Therefore, the correct answer choice is A"
   ]
  },
  {
   "cell_type": "markdown",
   "id": "3123ed0c",
   "metadata": {},
   "source": [
    "# Question 6, Answer B\n",
    "## The soft order constraint attempts to minimize the error subject to a certain constraint\n",
    "## The augmented error formulation attemps to minimize the augmented error (the in sample error with an added term)\n",
    "## Mathematically, these are both identical. "
   ]
  }
 ],
 "metadata": {
  "kernelspec": {
   "display_name": "Python 3 (ipykernel)",
   "language": "python",
   "name": "python3"
  },
  "language_info": {
   "codemirror_mode": {
    "name": "ipython",
    "version": 3
   },
   "file_extension": ".py",
   "mimetype": "text/x-python",
   "name": "python",
   "nbconvert_exporter": "python",
   "pygments_lexer": "ipython3",
   "version": "3.9.12"
  }
 },
 "nbformat": 4,
 "nbformat_minor": 5
}
